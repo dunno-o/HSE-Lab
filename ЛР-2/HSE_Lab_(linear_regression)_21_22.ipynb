{
  "cells": [
    {
      "cell_type": "markdown",
      "metadata": {
        "id": "VJEZ8P61An7I"
      },
      "source": [
        "# Лабораторная работа 2\n",
        "\n",
        "## Линейная регрессия"
      ]
    },
    {
      "cell_type": "markdown",
      "metadata": {
        "id": "5kOKUEqSSU5j"
      },
      "source": [
        "## Часть 1: Приближаем функции\n"
      ]
    },
    {
      "cell_type": "markdown",
      "metadata": {
        "id": "y3OmO16EAn7M"
      },
      "source": [
        "### Метод наименьших квадратов: постановка задачи\n",
        "\n",
        "Рассмотрим систему уравнений $Xa = y$, в которой $a$ — столбец неизвестных. Её можно переписать в векторном виде\n",
        "$$x_1 a_1 + x_2 a_2 + \\ldots + x_k a_k = y,$$\n",
        "где $x_1,\\ldots,x_k$ — столбцы матрицы $X$. Таким образом, решить исходную систему означает найти линейную комбинацию векторов $x_1,\\ldots,x_k$, равную правой части. Но что делать, если такой линейной комбинации не существует? Геометрически это означает, что вектор $y$ не лежит в подпространстве $U = \\langle x_1,\\ldots, x_k\\rangle$. В этом случае мы можем найти *псевдорешение*: вектор коэффициентов $\\hat{a}$, для которого линейная комбинация $x_1 \\hat{a}_1 + x_2 \\hat{a}_2 + \\ldots + x_k \\hat{a}_k$ хоть и не равна в точности $y$, но является наилучшим приближением — то есть ближайшей к $y$ точкой $\\hat{y}$ подпространства $U$ (иными словами, ортогональной проекцией $y$ на это подпростанство). Итак, цель наших исканий можно сформулировать двумя эквивалентными способами:\n",
        "\n",
        "1. Найти вектор $\\hat{a}$, для которого длина разности $|X\\hat{a} - y|$ минимальна;\n",
        "2. Найти ортогональную проекцию $\\hat{y}$ вектора $y$ на подпространство $U$ и представить её в виде $X\\hat{a}$.\n",
        "\n",
        "Далее мы будем предполагать, что векторы $x_1,\\ldots,x_k$ линейно независимы (если нет, то сначала имеет смысл выделить максимальную линейно независимую подсистему).\n",
        "\n",
        "На лекциях было показано, что проекция вектора $y$ на подпространство $U = \\langle x_1,\\ldots, x_k\\rangle$, записывается в виде\n",
        "$$\\hat{y} = X\\left(X^TX\\right)^{-1}X^Ty,$$\n",
        "и, соответственно, искомый вектор $\\hat{a}$ равен\n",
        "$$\\hat{a} = \\left(X^TX\\right)^{-1}X^Ty.$$"
      ]
    },
    {
      "cell_type": "markdown",
      "metadata": {
        "id": "Wbh4XI_BAn7P"
      },
      "source": [
        "### Задача линейной регрессии\n",
        "\n",
        "Начнём с примера. Допустим, вы хотите найти зависимость среднего балла S студента ФКН от его роста H, веса W, длины волос L и N — количества часов, которые он ежедневно посвящает учёбе. Представьте, что мы измерили все эти параметры для $n$ студентов и получили наборы значений: $S_1,\\ldots, S_n$, $H_1,\\ldots, H_n$ и так далее.\n",
        "\n",
        "Теперь мы хотим построить **модель**, т.е. определить алгоритм, который будет принимать на вход некоторый набор параметров (в данном случае это измеренные нами $H, W, L$ и $N$), и выдавать значение некоторой **целевой переменной** (в данном примере это $S$). Тут можно подбирать много разных умных моделей, но начать имеет смысл с самой простой, линейной:\n",
        "\n",
        "$$S = a_0 + a_1H + a_2W + a_3L + a_4N.$$\n",
        "\n",
        "Конечно, строгой линейной зависимости нет (иначе можно было бы радостно упразднить экзамены), но мы можем попробовать подобрать коэффициенты $a_0, a_1, a_2, a_3, a_4$, удовлетворяющие вот такому требованию:\n",
        "$$\\sum_{i=1}^n\\left(S_i - ( a_0 + a_1H_i + a_2W_i + a_3L_i + a_4N_i)\\right)^2 \\longrightarrow \\min$$\n",
        "Т.е. мы хотим, чтобы квадрат отклонения правой части от левой был поменьше для всех $n$ студентов. Введём несколько обозначений:\n",
        "$$X =\n",
        "\\begin{pmatrix}\n",
        "1 & H_1 & W_1 & L_1 & N_1\\\\\n",
        "1 & H_2 & W_2 & L_2 & N_2\\\\\n",
        "\\vdots & \\vdots & \\vdots & \\vdots & \\vdots \\\\\n",
        "1 & H_n & W_n & L_n & N_n\n",
        "\\end{pmatrix}, \\qquad a=\n",
        "\\begin{pmatrix}\n",
        "a_0\\\\ a_1\\\\ \\vdots\\\\ a_4\n",
        "\\end{pmatrix},\\qquad y=\n",
        "\\begin{pmatrix}\n",
        "S_1\\\\ S_2\\\\ \\vdots \\\\ S_n\n",
        "\\end{pmatrix}.$$\n",
        "\n",
        "Теперь наше требование выше можно переписать в таком виде:\n",
        "$$\n",
        "\\sum_{i=1}^n\\left(S_i - ( a_0 + a_1H_i + a_2W_i + a_3L_i + a_4N_i)\\right)^2 = |y - Xa|^2 \\longrightarrow \\min\n",
        "$$\n",
        "\n",
        "И теперь видно, что мы получили задачу на метод наименьших квадратов!\n",
        "Решая эту задачу с помощью уже известных формул, получаем оценки коэффициентов $\\hat{a}_i$ ($i = 1\\ldots,5$)."
      ]
    },
    {
      "cell_type": "markdown",
      "metadata": {
        "id": "v76yazhJAn7R"
      },
      "source": [
        "Теперь проговорим общую постановку задачи линейной регрессии. У нас есть $k$ переменных $x_1,\\ldots,x_k$ (\"регрессоров\"), через которые мы хотим выразить \"объясняемую переменную\" $y$:\n",
        "$$y = a_1x_1 + a_2x_2 + \\ldots + a_kx_k$$\n",
        "Значения всех переменных мы измерили $n$ раз (у $n$ различных объектов,  в $n$ различных моментов времени - это зависит от задачи). Подставим эти данные в предыдущее равенство:\n",
        "$$\\begin{pmatrix}\n",
        "y_1\\\\ y_2 \\\\ \\vdots \\\\ y_n\n",
        "\\end{pmatrix} = \n",
        "a_1\\begin{pmatrix}\n",
        "x_{11} \\\\ x_{21} \\\\ \\vdots \\\\ x_{n1} \\end{pmatrix} + a_2\\begin{pmatrix}\n",
        "x_{12} \\\\ x_{22} \\\\ \\vdots \\\\ x_{n2} \\end{pmatrix} + \\ldots + a_k\\begin{pmatrix}\n",
        "x_{1k} \\\\ x_{2k} \\\\ \\vdots \\\\ x_{nk} \\end{pmatrix}$$\n",
        "(здесь $x_{ij}$ - это значение $j$-го признака на $i$-м измерении). Это удобно переписать в матричном виде:\n",
        "$$\\begin{pmatrix}\n",
        "x_{11} & x_{12} & \\ldots & x_{1k}\\\\\n",
        "x_{21} & x_{22} & \\ldots & x_{2k}\\\\\n",
        "\\dots & \\dots & \\dots & \\dots\\\\\n",
        "x_{n1} & x_{n2} & \\ldots & x_{nk}\n",
        "\\end{pmatrix} \\cdot\n",
        "\\begin{pmatrix}\n",
        "a_1 \\\\ a_2 \\\\ \\vdots \\\\ a_k\n",
        "\\end{pmatrix} = \n",
        "\\begin{pmatrix}\n",
        "y_1 \\\\ y_2 \\\\ \\vdots \\\\ y_n\n",
        "\\end{pmatrix}$$\n",
        "или коротко $Xa = y$. Поскольку на практике эта система уравнений зачастую не имеет решения (ибо зависимости в жизни редко бывают действительно линейными), методом наименьших квадратов ищется псевдорешение."
      ]
    },
    {
      "cell_type": "markdown",
      "metadata": {
        "id": "kDX5t_BxAn7T"
      },
      "source": [
        "### Оценка качества. Обучение и тест \n",
        "\n",
        "После того, как вы построили регрессию и получили какую-то зависимость объясняемой переменной от регрессоров, настаёт время оценить качество регрессии. Есть много разных функционалов качества; мы пока будем говорить только о самом простом и очевидном из них: о среднеквадратичной ошибке (mean square error). Она равна\n",
        "$$\\frac1{n}|X\\hat{a} - y|^2 = \\frac1{n}\\sum_{i=1}^n\\left(\\hat{a}_1x_{i1} + \\hat{a}_2x_{i2} + \\ldots + \\hat{a}_kx_{ik} - y_i\\right)^2$$\n",
        "\n",
        "В целом, хочется искать модели с наименьшей mean square error на имеющихся данных. Однако слишком фанатичная гонка за минимизацией ошибки может привести к печальным последствиям, в чём Вам предстоит убедиться в ходе выполнения этой лабораторной.\n",
        "\n",
        "Чтобы не попадать в эту ловушку, данные обычно делят на обучающие (по которым строят модель и оценивают коэффициенты) и тестовые. Лучшей стоит счесть ту модель, для которой значение функционала качества будет меньше."
      ]
    },
    {
      "cell_type": "markdown",
      "metadata": {
        "id": "CMrD0HArAn7T"
      },
      "source": [
        "### Правила оформления графиков\n",
        "При работе с данными часто неудобно делать какие-то выводы, если смотреть на таблицу и числа в частности, поэтому важно уметь визуализировать данные. \n",
        "\n",
        "У matplotlib, конечно же, есть [документация](https://matplotlib.org/users/index.html) с большим количеством [примеров](https://matplotlib.org/examples/), но для начала достаточно знать про несколько основных типов графиков:\n",
        "- plot — обычный поточечный график, которым можно изображать кривые или отдельные точки;\n",
        "- hist — гистограмма, показывающая распределение некоторой величины;\n",
        "- scatter — график, показывающий взаимосвязь двух величин;\n",
        "- bar — столбцовый график, показывающий взаимосвязь количественной величины от категориальной.\n",
        "\n",
        "Ещё одна билиотека для визуализации: [seaborn](https://jakevdp.github.io/PythonDataScienceHandbook/04.14-visualization-with-seaborn.html). Это надстройка над matplotlib, иногда удобнее и красивее делать визуализации через неё. \n",
        "\n",
        "При выполнении этой лабораторной Вы столкнётесь с необходимостью рисовать большое количество графиков. Не забывайте про базовые принципы построения приличных графиков:\n",
        "- оси должны быть подписаны, причём не слишком мелко;\n",
        "- у графика должно быть название;\n",
        "- если изображено несколько графиков, то необходима поясняющая легенда;\n",
        "- для точек из разных выборок необходимо использовать разные цвета;\n",
        "- все линии на графиках должны быть чётко видны (нет похожих цветов или цветов, сливающихся с фоном);\n",
        "- если отображена величина, имеющая очевидный диапазон значений (например, проценты могут быть от 0 до 100), то желательно масштабировать ось на весь диапазон значений (исключением является случай, когда вам необходимо показать малое отличие, которое незаметно в таких масштабах).\n",
        "\n",
        "Помните, что проверяющий имеет право снизить оценку за неопрятные графики."
      ]
    },
    {
      "cell_type": "markdown",
      "metadata": {
        "id": "3Ivj-lm0An7U"
      },
      "source": [
        "### Формат сдачи\n",
        "Задания сдаются через систему Anytask. Инвайт можно найти на странице курса. Присылать необходимо ноутбук с выполненным заданием. Сам ноутбук называйте в формате homework-practice-02-linregr-Username.ipynb, где Username — Ваша фамилия."
      ]
    },
    {
      "cell_type": "markdown",
      "metadata": {
        "id": "sgYTlfJlAn7W"
      },
      "source": [
        "### Задание 1. Метод наименьших квадратов (3.1 баллов)\n",
        "\n",
        "**ВАЖНО! В этом задании вам нельзя использовать циклы (в том числе рекурсии, генераторы и конструкции вида map/reduce), кроме цикла в задании 1.5, который мы вам оставили. За наличие цикла в вашем коде мы поставим вам не более половины от стоимости задания.**"
      ]
    },
    {
      "cell_type": "markdown",
      "metadata": {
        "id": "h_HVV2__An7W"
      },
      "source": [
        "Скачайте файлы ``train.txt`` и ``test.txt``. Каждый из файлов содержит два столбца чисел, разделённых пробелами: в первом — некоторое число точек (значения аргумента $x$), во втором — значения некоторой функции $y = f(x)$ в этих точках, искажённые случайным шумом. Функцию $f$ мы вам не скажем. Ваша задача — по данным из файла ``train.txt`` (будем называть их обучающей выборкой) подобрать функцию $y = g(x)$, пристойно приближающую неизвестную вам зависимость."
      ]
    },
    {
      "cell_type": "markdown",
      "metadata": {
        "id": "qhI6CxL0An7Y"
      },
      "source": [
        "Загрузим обучающие и тестовые данные (из файла ``test.txt``)."
      ]
    },
    {
      "cell_type": "code",
      "execution_count": null,
      "metadata": {
        "id": "ca7tXdbiAn7Z"
      },
      "outputs": [],
      "source": [
        "import numpy as np\n",
        "from os.path import join\n",
        "\n",
        "PATH = \"\" ### Вставить заглушку (не забудьте ввести правильный путь!)\n",
        "\n",
        "data_train = np.loadtxt(join(PATH, \"train.txt\"), delimiter=',')\n",
        "data_test = np.loadtxt(join(PATH, \"test.txt\"), delimiter=',')"
      ]
    },
    {
      "cell_type": "markdown",
      "metadata": {
        "id": "k3GshOvnAn7b"
      },
      "source": [
        "**0. [0 баллов]** Разделим значения $x$ и $y$"
      ]
    },
    {
      "cell_type": "code",
      "execution_count": null,
      "metadata": {
        "id": "1BIIDVGjAn7b"
      },
      "outputs": [],
      "source": [
        "X_train = data_train[:,0]\n",
        "y_train = data_train[:,1]\n",
        "\n",
        "# Сделайте то же для тестовой выборки\n",
        "#╰( ͡° ͜ʖ ͡° )つ──☆*:・ﾟ\n",
        "X_test = data_test[:,0]\n",
        "y_test = data_test[:,1]"
      ]
    },
    {
      "cell_type": "markdown",
      "metadata": {
        "id": "PRLl0nkWAn7c"
      },
      "source": [
        "**1. [0,15 балла]** Найдите с помощью метода наименьших квадратов линейную функцию $y = kx + b$, наилучшим образом приближающую неизвестную зависимость. Полезные функции: ``numpy.ones(n)`` для создания массива из единиц длины $n$ и ``numpy.concatenate((А, В), axis=1)`` для слияния двух матриц по столбцам (пара ``А`` и ``В`` превращается в матрицу ``[A B]``). Напечатайте этот многочлен в виде $kx+b$."
      ]
    },
    {
      "cell_type": "code",
      "execution_count": null,
      "metadata": {
        "id": "qTMuTy7IAn7d"
      },
      "outputs": [],
      "source": [
        "#╰( ͡° ͜ʖ ͡° )つ──☆*:・ﾟ\n",
        "\n",
        "A = np.vstack([X_train, np.ones(len(X_train))]).T\n",
        "\n",
        "B = np.vstack([y_train, np.ones(len(y_train))])\n",
        "\n",
        "func = np.linalg.inv((A.T @ A)) @ A.T @ np.vstack(y_train)\n"
      ]
    },
    {
      "cell_type": "markdown",
      "metadata": {
        "id": "Bnburua6An7e"
      },
      "source": [
        "**2. [0,15 балла]** Нарисуйте на плоскости точки $(x_i, y_i)$ из обеих выборок и полученную линейную функцию."
      ]
    },
    {
      "cell_type": "code",
      "execution_count": null,
      "metadata": {
        "colab": {
          "base_uri": "https://localhost:8080/",
          "height": 295
        },
        "id": "Um_XtCIRAn7e",
        "outputId": "ecd3edca-b95c-405c-9b6e-7444a943ed95"
      },
      "outputs": [
        {
          "output_type": "display_data",
          "data": {
            "text/plain": [
              "<Figure size 432x288 with 1 Axes>"
            ],
            "image/png": "[encoded data removed]"
          },
          "metadata": {
            "needs_background": "light"
          }
        }
      ],
      "source": [
        "#╰( ͡° ͜ʖ ͡° )つ──☆*:・ﾟ\n",
        "\n",
        "import matplotlib.pyplot as plt\n",
        "\n",
        "plt.scatter(X_test, y_test, label='was on test')\n",
        "plt.scatter(X_train, y_train, color='red', label='was on train')\n",
        "plt.plot(X_test, np.polyval(func, X_test), label='is on test', color='orange')\n",
        "\n",
        "plt.xlabel(\"x\")\n",
        "plt.ylabel(\"y\")\n",
        "plt.title(\"Best fit line\")\n",
        "plt.legend()\n",
        "plt.show()"
      ]
    },
    {
      "cell_type": "markdown",
      "metadata": {
        "id": "crzpARViAn7f"
      },
      "source": [
        "**3. [0,4 балла]** Глядя на данные, подумайте, многочленом какой степени можно было бы лучше всего приблизить эту функцию с точки зрения минимизации среднеквадратичной ошибки на обучающей выборке. Найдите этот многочлен и сохраните его коэффициенты в массив `poly_coef` (от младшего члена к старшему). Обязательно обоснуйте выбор степени многочлена."
      ]
    },
    {
      "cell_type": "markdown",
      "metadata": {
        "id": "RLbYjeqk1jdt"
      },
      "source": [
        "У нас 24 значения в выборке -> имеем многочлен 23 степени. Как известно, можно единственным образом определеть многочлен по k + 1 точке(Лагранж, интерполяция, Вандермонд) -> нужно 24 точки. "
      ]
    },
    {
      "cell_type": "code",
      "execution_count": null,
      "metadata": {
        "id": "PSywLPifAn7g"
      },
      "outputs": [],
      "source": [
        "#╰( ͡° ͜ʖ ͡° )つ──☆*:・ﾟ\n",
        "\n",
        "vander = np.vander(X_train)\n",
        "\n",
        "poly_coef = np.linalg.inv((vander.T @ vander)) @ vander.T @ np.vstack(y_train)\n",
        "\n",
        "\n",
        "poly_x = np.linspace(min(X_train), max(X_train), 10000)"
      ]
    },
    {
      "cell_type": "markdown",
      "metadata": {
        "id": "bVlu8GtRAn7h"
      },
      "source": [
        "**4. [0,15 балла]** Нарисуйте его график на одном чертеже вместе с точками $(x_i, y_i)$ из обеих выборок. Удалось ли графику пройти через все точки из выборки? Попробуйте объяснить, почему?"
      ]
    },
    {
      "cell_type": "code",
      "execution_count": null,
      "metadata": {
        "colab": {
          "base_uri": "https://localhost:8080/",
          "height": 621
        },
        "id": "2EjDMWVQAn7i",
        "outputId": "8d474983-aa60-4b53-f6c2-2a54536e08e3",
        "scrolled": true
      },
      "outputs": [
        {
          "output_type": "display_data",
          "data": {
            "text/plain": [
              "<Figure size 720x720 with 1 Axes>"
            ],
            "image/png": "[encoded data removed]"
          },
          "metadata": {
            "needs_background": "light"
          }
        }
      ],
      "source": [
        "#╰( ͡° ͜ʖ ͡° )つ──☆*:・ﾟ\n",
        "\n",
        "plt.figure(figsize=(10, 10))\n",
        "\n",
        "plt.scatter(X_test, y_test, label='was on test')\n",
        "plt.scatter(X_train, y_train, color='red', label='was on train')\n",
        "plt.plot(poly_x, np.polyval(poly_coef, poly_x), label='is on random', color='orange')\n",
        "plt.axis([-1, 1.5, -10, 10])\n",
        "plt.xlabel(\"x\")\n",
        "plt.ylabel(\"y\")\n",
        "plt.title(\"Best fit line\")\n",
        "plt.legend()\n",
        "plt.show()"
      ]
    },
    {
      "cell_type": "markdown",
      "source": [
        "потому что учили вы его на одних данных, а проверяли на других. Есть MSE > 0"
      ],
      "metadata": {
        "id": "CcNHJj6RJv1Z"
      }
    },
    {
      "cell_type": "markdown",
      "metadata": {
        "id": "mlVLDqILAn7j"
      },
      "source": [
        "**5. [0,5 балла]** Для $k = 1,2,3,\\ldots,10$ найдите многочлен $\\hat{f}_k$ степени $k$, наилучшим образом приближающий неизвестную зависимость. Сохраните найденные коэффициенты многочленов в матрицу `poly_coefs` (коэффициенты многочлена степени $j$ должны быть сохранены в $j$-й строке матрицы от младшего члена к старшему)."
      ]
    },
    {
      "cell_type": "code",
      "execution_count": null,
      "metadata": {
        "id": "_kz4i82kAn7j"
      },
      "outputs": [],
      "source": [
        "poly_coefs = np.empty((10, 11))\n",
        "for k in range(1, 11):\n",
        "  #╰( ͡° ͜ʖ ͡° )つ──☆*:・ﾟ\n",
        "  vander = np.vander(X_train, k + 1)\n",
        "\n",
        "  poly_coefs[k - 1] = np.concatenate((np.array(np.linalg.inv((vander.T @ vander)) @ vander.T @ np.vstack(y_train)).reshape(1, k + 1)[0][::-1], np.zeros(11 - k - 1)), axis=0)\n",
        "\n",
        "# Простая проверка, что матрица poly_coefs имеет столько строк, сколько нужно\n",
        "assert poly_coefs.shape[0] == 10"
      ]
    },
    {
      "cell_type": "markdown",
      "metadata": {
        "id": "XZm2UpUEAn7k"
      },
      "source": [
        "**6. [0,6 балл]** Для каждого из многочленов из задания 1.5, а также для многочлена из задания 1.4 найдите среднеквадратическую ошибку на обучающих данных и на тестовых данных: $\\frac1{n}\\sum_{i=1}^n\\left( \\hat{f}_k(x_i) - y_i \\right)^2$. Полученные значения ошибок сохраните в матрицу `errors` высоты 11 и ширины 2. В первом столбце матрицы должны стоять значения ошибок на тренировочных данных, во втором --- на тестовых. В первых 10 строках матрицы должны стоять значения ошибок для многочленов соответствующих степений из задания 1.5, в 11-й строке --- значение ошибки для многочлена из задания 1.4."
      ]
    },
    {
      "cell_type": "code",
      "execution_count": null,
      "metadata": {
        "id": "byyH4arFAn7k",
        "colab": {
          "base_uri": "https://localhost:8080/"
        },
        "outputId": "4d69889f-122d-458a-c69a-5c331c91cf7d"
      },
      "outputs": [
        {
          "output_type": "stream",
          "name": "stdout",
          "text": [
            "[[9.76360679e+00 6.48559875e+00]\n",
            " [9.83854651e+00 6.53237835e+00]\n",
            " [1.01727407e+01 6.70304970e+00]\n",
            " [9.23638090e+00 6.29433496e+00]\n",
            " [7.35403277e+00 6.38646837e+00]\n",
            " [7.13199852e+00 6.32452509e+00]\n",
            " [7.47904141e+00 1.29784712e+01]\n",
            " [7.44840191e+00 1.25525118e+01]\n",
            " [5.56597390e+02 5.20939959e+02]\n",
            " [1.17584631e+04 9.61150869e+03]\n",
            " [1.67931021e+00 3.48490005e+08]]\n"
          ]
        }
      ],
      "source": [
        "#╰( ͡° ͜ʖ ͡° )つ──☆*:・ﾟ\n",
        "\n",
        "\n",
        "errors = np.empty((11, 2))\n",
        "\n",
        "vd = np.vander(X_train, 11).T\n",
        "\n",
        "errors_train = np.mean(((poly_coefs @ vd) - y_train) ** 2, axis=1, dtype=np.float64)\n",
        "\n",
        "errors_train = np.append(errors_train, np.mean((y_train - np.polyval(poly_coef, X_train)) ** 2, dtype=np.float64))\n",
        "\n",
        "vd_test = np.vander(X_test, 11).T\n",
        "\n",
        "errors_test = np.mean(((poly_coefs @ vd_test) - y_test) ** 2, axis=1, dtype=np.float64)\n",
        "\n",
        "errors_test = np.append(errors_test, np.mean((y_test - np.polyval(poly_coef, X_test)) ** 2, dtype=np.float64))\n",
        "\n",
        "errors = np.stack((errors_train, errors_test), axis=1)\n",
        "\n",
        "print(errors)\n",
        "\n",
        "\n"
      ]
    },
    {
      "cell_type": "markdown",
      "metadata": {
        "id": "VKns2ndWAn7l"
      },
      "source": [
        "**7. [0,5 балла]** Для $k = 1,2,3,4,6$ нарисуйте графики полученных многочленов на одном чертеже вместе с точками $(x_i, y_i)$ из обеих выборок (возможно, график стоит сделать побольше; это делается командой `plt.figure(figsize=(width, height))`)."
      ]
    },
    {
      "cell_type": "code",
      "execution_count": null,
      "metadata": {
        "id": "Vwt574k1An7m",
        "colab": {
          "base_uri": "https://localhost:8080/",
          "height": 621
        },
        "outputId": "3869a522-5436-47aa-a7b2-0be68bb1cecf"
      },
      "outputs": [
        {
          "output_type": "display_data",
          "data": {
            "text/plain": [
              "<Figure size 720x720 with 1 Axes>"
            ],
            "image/png": "[encoded data removed]"
          },
          "metadata": {
            "needs_background": "light"
          }
        }
      ],
      "source": [
        "#╰( ͡° ͜ʖ ͡° )つ──☆*:・ﾟ\n",
        "\n",
        "\n",
        "plt.figure(figsize=(10, 10))\n",
        "\n",
        "x = poly_x\n",
        "\n",
        "y_1 = np.polyval(poly_coefs[0][::-1], x)\n",
        "\n",
        "y_2 = np.polyval(poly_coefs[1][::-1], x)\n",
        "y_3 = np.polyval(poly_coefs[2][::-1], x)\n",
        "y_4 = np.polyval(poly_coefs[3][::-1], x)\n",
        "y_6 = np.polyval(poly_coefs[5][::-1], x)\n",
        "\n",
        "\n",
        "plt.scatter(X_test, y_test, label='was on test')\n",
        "plt.scatter(X_train, y_train, color='red', label='was on train')\n",
        "plt.plot(x, y_1, label='first', color='orange')\n",
        "plt.plot(x, y_2, label='second', color='cyan')\n",
        "plt.plot(x, y_3, label='third', color='lime')\n",
        "plt.plot(x, y_4, label='fourth', color='crimson')\n",
        "plt.plot(x, y_6, label='sixth', color='pink')\n",
        "\n",
        "plt.axis([-1, 1.5, -2, 7.5])\n",
        "\n",
        "plt.xlabel(\"x\")\n",
        "plt.ylabel(\"y\")\n",
        "plt.title(\"Best fit line\")\n",
        "plt.legend()\n",
        "plt.show()"
      ]
    },
    {
      "cell_type": "markdown",
      "metadata": {
        "id": "YXMClHOOAn7n"
      },
      "source": [
        "**8. [0,65 балла]** Что происходит с ошибкой на тестовых данных при росте степени многочлена? Казалось бы, чем больше степень, тем более сложным будет многочлен и тем лучше он будет приближать нашу функцию. Подтверждают ли это ваши наблюдения? Как вам кажется, чем объясняется поведение ошибки на тестовых данных при $k = 10$? Как называется наблюдаемый вами эффект?"
      ]
    },
    {
      "cell_type": "markdown",
      "metadata": {
        "id": "-6rGUQMqAn7n"
      },
      "source": [
        "**Ответ:** ╰( ͡° ͜ʖ ͡° )つ──☆*:・ﾟ\n",
        "\n",
        "Они растут. Скорее всего из-за неточности представления флотов в компах, а чем выше степень - тем больше вычислений в них проведем."
      ]
    },
    {
      "cell_type": "markdown",
      "metadata": {
        "id": "iwhYglpqSgh1"
      },
      "source": [
        "## Часть 2: Обучаем машины"
      ]
    },
    {
      "cell_type": "markdown",
      "metadata": {
        "id": "KFN99QhUAn7o"
      },
      "source": [
        "### Задание 2. Линейная регрессия (3 балла)"
      ]
    },
    {
      "cell_type": "markdown",
      "metadata": {
        "id": "EIPGe5d0JSgq"
      },
      "source": [
        "В этом задании вам предстоит заняться предсказанием цен на алмазы. Скачайте файл `diamonds_features.csv`, содержащий данные, с которыми вам предстоит работать. Запустите следующую ячейку:"
      ]
    },
    {
      "cell_type": "code",
      "execution_count": null,
      "metadata": {
        "id": "8_G9QdO6PdP4",
        "colab": {
          "base_uri": "https://localhost:8080/"
        },
        "outputId": "72c5ed86-5721-4cec-f577-884bf30f7238"
      },
      "outputs": [
        {
          "output_type": "stream",
          "name": "stdout",
          "text": [
            "[['0.8' 'Ideal' 'F' 'VS1' '62.4' '55.0' '5.92' '5.88' '3.68' '3884']\n",
            " ['0.91' 'Premium' 'F' 'SI2' '61.4' '60.0' '6.23' '6.21' '3.82' '3618']\n",
            " ['1.28' 'Premium' 'I' 'VS2' '61.7' '60.0' '7.05' '6.95' '4.32' '6762']\n",
            " ['0.41' 'Very Good' 'F' 'SI1' '61.9' '55.0' '4.78' '4.81' '2.97' '769']\n",
            " ['1.07' 'Premium' 'F' 'SI2' '61.8' '59.0' '6.53' '6.57' '4.05' '4560']]\n"
          ]
        }
      ],
      "source": [
        "data = np.loadtxt(\"diamonds_features.csv\", delimiter=\",\", dtype=\"str\")[1:, :]\n",
        "print(data[:5, :])"
      ]
    },
    {
      "cell_type": "markdown",
      "metadata": {
        "id": "ghn2xvL5P8BK"
      },
      "source": [
        "Мы вывели для вас первые 5 строчек данных. Описания значений в колонках вы можете найти в файле `diamonds_descriptions.txt`.\n",
        "\n",
        "Глобально в этом задании вам предстоит научиться строить модель линейной регрессии для предсказания цены алмаза по его признакам. Данные устроены таким образом, что в каждой строчке располагаются признаки, описывающие объект (алмаз), а в каждой фиксированной колонке --- всевозможные значения конкретного признака для всех объектов в данных."
      ]
    },
    {
      "cell_type": "markdown",
      "metadata": {
        "id": "fJEFOEpJAn7p"
      },
      "source": [
        "**0. [0 баллов]** Разделите выборку на обучающую и тестовую. Делать это лучше случайным образом (ведь вы не знаете, как создатели датасета упорядочили объекты); рекомендуем вам для этого функцию [sklearn.model_selection.train_test_split](https://scikit-learn.org/stable/modules/generated/sklearn.model_selection.train_test_split.html) с параметром `test_size=0.3`. Обязательно зафиксируйте параметр `random_state`."
      ]
    },
    {
      "cell_type": "code",
      "execution_count": null,
      "metadata": {
        "id": "RoFzvGRBAn7q"
      },
      "outputs": [],
      "source": [
        "#╰( ͡° ͜ʖ ͡° )つ──☆*:・ﾟ\n",
        "from sklearn.model_selection import train_test_split\n",
        "\n",
        "data_train, data_test = train_test_split(data, test_size=0.3, random_state=42)\n"
      ]
    },
    {
      "cell_type": "markdown",
      "metadata": {
        "id": "dVO-0MsaTXXT"
      },
      "source": [
        "Теперь у вас есть две выборки, каждая из которых содержит случайное подмножество наших данных. Обучающую выборку мы в дальнейшем будем использовать для обучения модели линейной регрессии, а тестовую, соответственно, для теста.\n",
        "\n",
        "**ВАЖНО: за обучение модели на тестовой выборке будем ставить 0 за весь пункт!**"
      ]
    },
    {
      "cell_type": "markdown",
      "metadata": {
        "id": "JEQLiBg-_zfK"
      },
      "source": [
        "### Работаем с числовыми данными"
      ]
    },
    {
      "cell_type": "markdown",
      "metadata": {
        "id": "bHSfXGDeC0b1"
      },
      "source": [
        "Сейчас ваши данные содержат как привычные вам числовые признаки, описывающие объект, так и категориальные признаки, которые описывают принадлежность объекта к той или иной категории, и в данных представляются строками. Что делать с данными, которые представлены строками --- мы разберёмся чуть позже, а пока давайте забудем, что они у нас есть, и будем работать только с числовыми."
      ]
    },
    {
      "cell_type": "markdown",
      "metadata": {
        "id": "KGGUh0UBEHSG"
      },
      "source": [
        "**0,5. [0 баллов]** Заполните переменные `numeric_features` и `categorical_features` индексами столбцов в данных, содержащих числовые и категориальные признаки соответственно. После этого можно проверить, что массив `data[:, numeric_features]` содержит только числовые данные."
      ]
    },
    {
      "cell_type": "code",
      "execution_count": null,
      "metadata": {
        "id": "kZWCocxzE-dv",
        "colab": {
          "base_uri": "https://localhost:8080/"
        },
        "outputId": "018c9437-f24a-4064-a8f4-69272a445fe4"
      },
      "outputs": [
        {
          "output_type": "stream",
          "name": "stdout",
          "text": [
            "[['0.8' '62.4' '55.0' ... '5.88' '3.68' '3884']\n",
            " ['0.91' '61.4' '60.0' ... '6.21' '3.82' '3618']\n",
            " ['1.28' '61.7' '60.0' ... '6.95' '4.32' '6762']\n",
            " ...\n",
            " ['0.31' '61.4' '56.0' ... '4.41' '2.7' '609']\n",
            " ['0.36' '62.0' '59.0' ... '4.51' '2.81' '807']\n",
            " ['0.31' '59.0' '62.0' ... '4.43' '2.61' '755']]\n"
          ]
        }
      ],
      "source": [
        "# ╰( ͡° ͜ʖ ͡° )つ──☆*:・ﾟ\n",
        "numeric_features = [0, 4, 5, 6, 7, 8, 9]\n",
        "categorical_features = [1, 2, 3]\n",
        "print(data[:, numeric_features])"
      ]
    },
    {
      "cell_type": "markdown",
      "metadata": {
        "id": "Fiqc6nBwFVpP"
      },
      "source": [
        "**1. [0,3 баллов]** Решите задачу линейной регрессии для предсказания цены алмаза по его числовым признакам (не забудьте, что линейная модель должна также содержать свободный от признаков член) и протестируйте ваше решение на тестовых данных. Выведите полученные регрессионные коэффициенты для каждого признака. Попробуйте проинтерпретировать полученные коэффициенты: сравните их друг с другом, посмотрите на их знаки и на абсолютную величину и попробуйте на основе этого придать им житейский смысл. Согласуется ли построенная интерпретация модели с вашими представлениями о жизни? \n",
        "\n",
        "*Примечание: обратите внимание, сейчас все данные у вас хранятся в строковом виде. Чтобы работать с ними как с числами, необоходимо явно привести их к типу float. В NumPy для этого есть специальная удобная команда astype.*"
      ]
    },
    {
      "cell_type": "code",
      "execution_count": null,
      "metadata": {
        "id": "Q-rpxCQLH1VY",
        "colab": {
          "base_uri": "https://localhost:8080/"
        },
        "outputId": "5a839296-82e7-4558-d530-fa9cf1352df7"
      },
      "outputs": [
        {
          "output_type": "stream",
          "name": "stdout",
          "text": [
            "const term: 20320.693832788143\n",
            "carat: 10786.237940071636\n",
            "depth: -199.27867510991283\n",
            "table: -95.0405585087082\n",
            "x: -1308.0801101672796\n",
            "y: 24.32725832935392\n",
            "z: 37.04825215407269\n",
            "MSE: 2058100.496223894\n"
          ]
        }
      ],
      "source": [
        "# ╰( ͡° ͜ʖ ͡° )つ──☆*:・ﾟ\n",
        "\n",
        "\n",
        "X = data_train[:,numeric_features[:6]].astype(np.float64)\n",
        "\n",
        "Y = data_train[:,numeric_features[6]].astype(np.float64)\n",
        "\n",
        "X_test = data_test[:,numeric_features[:6]].astype(np.float64)\n",
        "\n",
        "Y_test = data_test[:,numeric_features[6]].astype(np.float64)\n",
        "\n",
        "A = np.vstack([np.ones(len(X)), X.T]).T\n",
        "\n",
        "\n",
        "func = np.linalg.inv((A.T @ A)) @ A.T @ np.vstack(Y)\n",
        "\n",
        "names = ['const term', 'carat', 'depth', 'table', 'x', 'y', 'z']\n",
        "\n",
        "for i in range(len(func)):\n",
        "  print(names[i], ': ', *func[i], sep='')\n",
        "\n",
        "mse = ((np.sum(func[0] + func[1] * X_test.T[0] + func[2] * X_test.T[1] + func[3] * X_test.T[2] \n",
        "      + func[4] * X_test.T[3] + func[5] * X_test.T[4] + func[6] * X_test.T[5] - Y_test) ** 2) \n",
        "      / len(X_test))\n",
        "\n",
        "print('MSE:', mse, sep=' ')"
      ]
    },
    {
      "cell_type": "markdown",
      "metadata": {
        "id": "Se87BnStIAOK"
      },
      "source": [
        "Интерпретация модели здесь: ╰( ͡° ͜ʖ ͡° )つ──☆*:・ﾟ\n",
        "\n",
        "Нет, чушь какая-то, половина кэфов отрицательная, из чего следует, что если взять алмаз с очень большим x относительно остальных параметров, то экономически выгоднее не получить ничего, чем его, что смущает. "
      ]
    },
    {
      "cell_type": "markdown",
      "metadata": {
        "id": "6uGLZR-0TxaP"
      },
      "source": [
        "Если вы всё сделали правильно, у вас должны были получиться довольно большие по абсолютной величине коэффициенты."
      ]
    },
    {
      "cell_type": "markdown",
      "metadata": {
        "id": "58iMlV0TUHHz"
      },
      "source": [
        "**2. [0,15 баллов]** Попробуйте объяснить, почему ситуация, когда модель имеет большие по модулю коэффиценты, нежелательна?\n",
        "\n",
        "Подсказка: Вы можете попытаться проиллюстрировать свои рассуждения, искусственно описав с помощью исследуемых признаков два алмаза, которые по вашему мнению должны иметь одинаковую цену, и проверить, выдаст ли построенная модель близкие предсказания на этих объектах."
      ]
    },
    {
      "cell_type": "markdown",
      "metadata": {
        "id": "a3oKgoUjWiem"
      },
      "source": [
        "Ваше обоснование здесь: ╰( ͡° ͜ʖ ͡° )つ──☆*:・\n",
        "\n",
        "Пусть алмаз имеет форму куба. Тогда, как известно, его объем = x * y * z = v\n",
        "\n",
        "Тогда: v = 2x * y * z = x * 2y * z\n",
        "\n",
        "Здесь 2x, 2y не операция умножения, а вдвое большее значение.\n",
        "\n",
        "Однако, вышенаписанное равентство не выполнится с такими кэфами."
      ]
    },
    {
      "cell_type": "markdown",
      "metadata": {
        "id": "ycsEn6t9nwLB"
      },
      "source": [
        "**3. [0.2 баллов]** Нарисуйте гистограмму, характеризующую распределение объясняемой переменной в обучающей выборке. На такой диаграмме по оси `x` должны быть сгруппированные значения объясняемой переменной, а по оси `y` --- количество объектов выборки с таким значением. Столбцов на вашем графике должно быть не менее 50."
      ]
    },
    {
      "cell_type": "code",
      "execution_count": null,
      "metadata": {
        "id": "itrJbGIl-I9Q",
        "colab": {
          "base_uri": "https://localhost:8080/",
          "height": 595
        },
        "outputId": "1959f379-f5b9-4a90-8378-258aa475d247"
      },
      "outputs": [
        {
          "output_type": "execute_result",
          "data": {
            "text/plain": [
              "(array([2571., 3990., 2291.,  999., 1536., 1052., 1032.,  879.,  755.,\n",
              "         635.,  582.,  629.,  789.,  718.,  652.,  609.,  479.,  414.,\n",
              "         399.,  347.,  347.,  285.,  266.,  254.,  204.,  177.,  194.,\n",
              "         222.,  175.,  170.,  153.,  145.,  141.,  130.,  142.,  139.,\n",
              "         108.,  118.,  124.,  113.,  114.,   98.,   87.,   84.,   65.,\n",
              "          92.,   69.,   71.,   71.,   69.,   86.,   57.,   69.,   70.,\n",
              "          89.,   45.,   51.,   74.,   55.,   49.]),\n",
              " array([  334.  ,   642.15,   950.3 ,  1258.45,  1566.6 ,  1874.75,\n",
              "         2182.9 ,  2491.05,  2799.2 ,  3107.35,  3415.5 ,  3723.65,\n",
              "         4031.8 ,  4339.95,  4648.1 ,  4956.25,  5264.4 ,  5572.55,\n",
              "         5880.7 ,  6188.85,  6497.  ,  6805.15,  7113.3 ,  7421.45,\n",
              "         7729.6 ,  8037.75,  8345.9 ,  8654.05,  8962.2 ,  9270.35,\n",
              "         9578.5 ,  9886.65, 10194.8 , 10502.95, 10811.1 , 11119.25,\n",
              "        11427.4 , 11735.55, 12043.7 , 12351.85, 12660.  , 12968.15,\n",
              "        13276.3 , 13584.45, 13892.6 , 14200.75, 14508.9 , 14817.05,\n",
              "        15125.2 , 15433.35, 15741.5 , 16049.65, 16357.8 , 16665.95,\n",
              "        16974.1 , 17282.25, 17590.4 , 17898.55, 18206.7 , 18514.85,\n",
              "        18823.  ]),\n",
              " <a list of 60 Patch objects>)"
            ]
          },
          "metadata": {},
          "execution_count": 14
        },
        {
          "output_type": "display_data",
          "data": {
            "text/plain": [
              "<Figure size 432x288 with 1 Axes>"
            ],
            "image/png": "[encoded data removed]"
          },
          "metadata": {
            "needs_background": "light"
          }
        }
      ],
      "source": [
        "#╰( ͡° ͜ʖ ͡° )つ──☆*:・ﾟ\n",
        "\n",
        "import matplotlib.pyplot as plt\n",
        "\n",
        "plt.hist(data_train[:, -1].astype(float), bins=60)"
      ]
    },
    {
      "cell_type": "markdown",
      "metadata": {
        "id": "SEvOIN0DQyhZ"
      },
      "source": [
        "В левой части гистограммы располагаются небольшие значения целевой переменной, и объектов с таким значением в выборке довольно много (не забываем, что у нас тут не абстрактная математика в вакууме, мы тут цену алмазов предсказываем!); с увеличением значения таргета (целевой переменной) количество соответствующих объектов в выборке убывает. Сначала число объектов убывает довольно стремительно, но с некоторого момента разница в высоте между соседними столбцами уже почти незаметна. Такое явление называется \"распределение с тяжёлым хвостом\", и оно не очень желательно при построении модели."
      ]
    },
    {
      "cell_type": "markdown",
      "metadata": {
        "id": "PO37Qg7BTyqw"
      },
      "source": [
        "Попробуем избавиться от тяжёлого хвоста. Для этого нужно применить к таргету какую-нибудь медленнорастущую биективную функцию, например логарифм. \n",
        "\n",
        "<!-- Однако вспомним, что мы намеренно отмасштабировали таргет таким образом, чтобы среди его значений был 0, поэтому нужно придумать ещё какое-то преобразование, чтобы все значения целевой переменной попали в область определения логарифма. -->"
      ]
    },
    {
      "cell_type": "markdown",
      "metadata": {
        "id": "nXb63LraZaCL"
      },
      "source": [
        "**4. [0,25 баллов]** Прологарифмируйте целевую переменную и нарисуйте график распределения логарифмированного таргета. Сильно ли он отличается от предыдущего графика? Попробуйте объяснить, почему явление \"распределения с тяжёлым хвостом\" нежелательно при построении модели."
      ]
    },
    {
      "cell_type": "code",
      "execution_count": null,
      "metadata": {
        "id": "AdgFVEebZwPT",
        "colab": {
          "base_uri": "https://localhost:8080/",
          "height": 473
        },
        "outputId": "7ae2cfea-b6ff-4ab5-a945-78a4a0a3eb62"
      },
      "outputs": [
        {
          "output_type": "execute_result",
          "data": {
            "text/plain": [
              "(array([  70.,  269.,  524.,  787., 1081., 1377., 1423., 1310., 1262.,\n",
              "         866.,  797.,  644., 1166.,  894., 1041., 1063.,  886.,  946.,\n",
              "        1217., 1412., 1225., 1032.,  899.,  743.,  736.,  637.,  628.,\n",
              "         535.,  479.,  481.]),\n",
              " array([5.81114099, 5.94553079, 6.07992058, 6.21431037, 6.34870017,\n",
              "        6.48308996, 6.61747976, 6.75186955, 6.88625934, 7.02064914,\n",
              "        7.15503893, 7.28942872, 7.42381852, 7.55820831, 7.69259811,\n",
              "        7.8269879 , 7.96137769, 8.09576749, 8.23015728, 8.36454707,\n",
              "        8.49893687, 8.63332666, 8.76771646, 8.90210625, 9.03649604,\n",
              "        9.17088584, 9.30527563, 9.43966542, 9.57405522, 9.70844501,\n",
              "        9.84283481]),\n",
              " <a list of 30 Patch objects>)"
            ]
          },
          "metadata": {},
          "execution_count": 15
        },
        {
          "output_type": "display_data",
          "data": {
            "text/plain": [
              "<Figure size 432x288 with 1 Axes>"
            ],
            "image/png": "[encoded data removed]"
          },
          "metadata": {
            "needs_background": "light"
          }
        }
      ],
      "source": [
        "# ╰( ͡° ͜ʖ ͡° )つ──☆*:・ﾟ\n",
        "\n",
        "Y_train_log = np.log(Y)\n",
        "\n",
        "\n",
        "\n",
        "plt.hist(Y_train_log, bins=30)"
      ]
    },
    {
      "cell_type": "markdown",
      "metadata": {
        "id": "jrlDuorpEiU8"
      },
      "source": [
        "Ваше обоснование здесь: ╰( ͡° ͜ʖ ͡° )つ──☆*:・\n",
        "\n",
        "Плохо, потому что мы хотим обучать модель на равномерно распределенных данных. по графику ясно, что дешевых алмазов сильно больше, чем дорогих, следовательно они внесут куда больший вклад, значит мы будем хуже предсказывать цену на дорогие алмазы."
      ]
    },
    {
      "cell_type": "markdown",
      "metadata": {
        "id": "Ty0T3kk5EiZ-"
      },
      "source": [
        "Снова обучите линейную модель, считая целевой переменной логарифмированный таргет. Помните, что чтобы протестировать полученную линейную модель, важно взять экспоненту от полученных предсказаний."
      ]
    },
    {
      "cell_type": "code",
      "execution_count": null,
      "metadata": {
        "id": "NbWAprptKEt0",
        "colab": {
          "base_uri": "https://localhost:8080/"
        },
        "outputId": "8cc504de-02f6-4f9b-f8cb-abaaf9143cf6"
      },
      "outputs": [
        {
          "output_type": "stream",
          "name": "stdout",
          "text": [
            "const term: 0.6876392875189636\n",
            "carat: -0.7397863364282907\n",
            "depth: 0.02345871242398057\n",
            "table: -0.008916534254335667\n",
            "x: 1.1320034789840023\n",
            "y: 0.016806215899063393\n",
            "z: 0.047670114638098886\n",
            "\n",
            "MSE: 2514576.8902005055\n"
          ]
        }
      ],
      "source": [
        "# ╰( ͡° ͜ʖ ͡° )つ──☆*:・ﾟ\n",
        "\n",
        "A = np.vstack([np.ones(len(X)), X.T]).T\n",
        "\n",
        "\n",
        "func = np.linalg.inv((A.T @ A)) @ A.T @ np.vstack(Y_train_log)\n",
        "\n",
        "for i in range(len(func)):\n",
        "  print(names[i], ': ', *func[i], sep='')\n",
        "\n",
        "print()\n",
        "\n",
        "mse = np.sum((np.exp(func[0] + func[1] * X_test.T[0] + func[2] * X_test.T[1] + func[3] * X_test.T[2] \n",
        "      + func[4] * X_test.T[3] + func[5] * X_test.T[4] + func[6] * X_test.T[5]) - Y_test) ** 2) / len(X_test)\n",
        "\n",
        "print('MSE:', mse, sep=' ')"
      ]
    },
    {
      "cell_type": "markdown",
      "metadata": {
        "id": "NTSiJAeYE4EM"
      },
      "source": [
        "Удалось ли добиться лучшего качества?"
      ]
    },
    {
      "cell_type": "markdown",
      "metadata": {
        "id": "zugn9a3fE8nb"
      },
      "source": [
        "Ответ: ╰( ͡° ͜ʖ ͡° )つ──☆*:・\n",
        "\n",
        "Нет,стало хуже. Скорее всего по причине того, что логарифмирование портит данные, огрубляя их, поэтому построить регрессию, ища зависимость становиться сложнее. \n",
        "\n",
        "А именно, log(10^2) и log(10^4) отличаются всего в два раза, когда аргументы логарифма в сто раз. Явно не очень хорошая ситуация.\n",
        "\n"
      ]
    },
    {
      "cell_type": "markdown",
      "metadata": {
        "id": "NHn1U5xJaPVH"
      },
      "source": [
        "### Работаем с категориальными признаками"
      ]
    },
    {
      "cell_type": "markdown",
      "metadata": {
        "id": "_CLrKbkJdK2b"
      },
      "source": [
        "До сих пор мы работали с данными, которые представляются числами. Однако часто в датасетах объекты описываются не только признаками, содержащими числа, но и строковыми признаками, определяющими принадлежность объекта к некоторой категории. Такие признаки называются категориальными. Важно не выкидывать их из модели, потому что часто они содержат довольно полезную информацию об объекте, которую хорошая модель должна обязательно учитывать.\n",
        "\n",
        "В этом разделе мы будем рассматривать только категориальные признаки, временно забыв про числовые.\n",
        "\n",
        "Естесственно, нам нужно придумать, как закодировать категориальные признаки числами. Есть довольно много подходов к такой кодировке, но мы рассмотрим два самых базовых. Первая мысль, которая приходит в голову такая: давайте занумеруем все категории фиксированного признака, и заменим их строковое представление соответствующим численным."
      ]
    },
    {
      "cell_type": "markdown",
      "metadata": {
        "collapsed": true,
        "id": "Zh1vygTdAn7u"
      },
      "source": [
        "**5. [0,3 баллов]** Реализуйте описанную выше процедуру кодирования для всех категориальных признаков в выборке. Вы можете сделать это самостоятельно, а можете разобраться в классе `OrdinalEncoder` библиотеки `sklearn`. Обучите линейную модель на закодированных категориальных признаках и протестируйте. "
      ]
    },
    {
      "cell_type": "code",
      "execution_count": null,
      "metadata": {
        "id": "FETTkQQGo_-P",
        "colab": {
          "base_uri": "https://localhost:8080/"
        },
        "outputId": "c2b40563-2624-4b5d-ee18-9e8c684df030"
      },
      "outputs": [
        {
          "output_type": "stream",
          "name": "stdout",
          "text": [
            "const term: 3055.269345412469\n",
            "cut: 180.89959982834685\n",
            "color: 392.1451745509471\n",
            "clarity: -155.84397774916016\n",
            "MSE: 15048362.376893226\n"
          ]
        }
      ],
      "source": [
        "# ╰( ͡° ͜ʖ ͡° )つ──☆*:・ﾟ\n",
        "from sklearn.preprocessing import OrdinalEncoder\n",
        "\n",
        "x_train = data_train[:,categorical_features]\n",
        "\n",
        "y_train = data_train[:,numeric_features[6]].astype(np.float64)\n",
        "\n",
        "x_test = data_test[:,categorical_features]\n",
        "\n",
        "y_test = data_test[:,numeric_features[6]].astype(np.float64)\n",
        "\n",
        "enc = OrdinalEncoder()\n",
        "\n",
        "enc.fit(data_train[:, categorical_features])\n",
        "\n",
        "z = enc.transform(x_train)\n",
        "\n",
        "\n",
        "A = np.vstack([np.ones(len(x_train)), np.array(z).T]).T\n",
        "\n",
        "names = ['const term', 'cut', 'color', 'clarity']\n",
        "\n",
        "func = np.linalg.inv((A.T @ A)) @ A.T @ np.vstack(y_train)\n",
        "\n",
        "for i in range(len(func)):\n",
        "  print(names[i], ': ', *func[i], sep='')\n",
        "\n",
        "z_test = enc.transform(x_test)\n",
        "\n",
        "\n",
        "mse = np.sum((func[0] + func[1] * z_test.T[0] + func[2] * z_test.T[1] + func[3] * z_test.T[2] - y_test) ** 2) / len40(x_test)\n",
        "\n",
        "print('MSE:', mse, sep=' ')\n"
      ]
    },
    {
      "cell_type": "markdown",
      "metadata": {
        "id": "9O9CmAifpAJK"
      },
      "source": [
        "Подумайте, в чём потенциальные проблемы такого кодирования? (Подсказка: пусть изначально мы закодировали категорию A числом 1, а категорию B числом 2, а потом решили сделать наоборот: A <-> 2, B <-> 1. Подумайте, может ли измениться качество модели? А должно ли?)\n",
        "\n"
      ]
    },
    {
      "cell_type": "markdown",
      "metadata": {
        "id": "ZBkiDk5qqtSk"
      },
      "source": [
        "Ваше обоснование здесь: ╰( ͡° ͜ʖ ͡° )つ──☆*:・ﾟ\n",
        "Точно не должно, но в такой модель, видимо абсолютное значение кода влияет на его вклад в модель."
      ]
    },
    {
      "cell_type": "markdown",
      "metadata": {
        "id": "3NY2scS1rAuU"
      },
      "source": [
        "Теперь давайте попробуем исправить недочёты такого способа кодирования категориальных признаков, придумав другой метод. Пусть некоторый признак имеет 4 различные категории: {A, B, C, D}. Заменим этот признак на 4 бинарных признака. Каждый из новых признаков будет являться индикатором одной из этих четырёх категорий: если некоторый объект имел категорию A, то после нашего кодирования значение признака, соответствующего категории А у этого объекта будет равно $1$, а значения оставшихся трёх признаков будут $0$. Небольшая иллюстрация: пусть так выглядела выборка до кодирования\n",
        "\n",
        "| Объект | Признак |\n",
        "| :----------:|:-:|\n",
        "| X | \"B\" |\n",
        "| Y | \"D\" |\n",
        "\n",
        "А так будет выглядеть после кодирования:\n",
        "\n",
        "| Объект | Признак == \"A\" | Признак == \"B\" | Признак == \"C\" | Признак == \"D\" |\n",
        "| :----------:|:-:|:-:|:-:|:-:|\n",
        "| X | 0 | 1 | 0 | 0 |\n",
        "| Y | 0 | 0 | 0 | 1 |\n"
      ]
    },
    {
      "cell_type": "markdown",
      "metadata": {
        "id": "U_VHgVKjtpwr"
      },
      "source": [
        "**6. [0,3 баллов]** Реализуйте описанную выше процедуру кодирования для всех категориальных признаков в выборке. Вы можете сделать это самостоятельно, а можете разобраться в классе `OneHotEncoder` библиотеки `sklearn`. Обучите линейную модель на закодированных категориальных признаках и протестируйте. "
      ]
    },
    {
      "cell_type": "code",
      "execution_count": null,
      "metadata": {
        "id": "2Rrs69UxtyvR",
        "colab": {
          "base_uri": "https://localhost:8080/"
        },
        "outputId": "ad605411-88ce-4da0-9ac4-c0f10096057a"
      },
      "outputs": [
        {
          "output_type": "stream",
          "name": "stdout",
          "text": [
            "(26430,) (20, 26430)\n",
            "(21, 1)\n",
            "[[ 216154.47605896]\n",
            " [  12382.40258789]\n",
            " [ -27182.63793945]\n",
            " [  14287.44433594]\n",
            " [  35429.79492188]\n",
            " [  48319.62841797]\n",
            " [ -63364.20214844]\n",
            " [ -26861.58837891]\n",
            " [ -44734.06933594]\n",
            " [ -33446.29980469]\n",
            " [   1112.08276367]\n",
            " [ -39809.39990234]\n",
            " [  23640.62548828]\n",
            " [ -64002.28564453]\n",
            " [-194636.63476562]\n",
            " [ -39696.33789062]\n",
            " [-156392.21533203]\n",
            " [-175631.56933594]\n",
            " [-148515.265625  ]\n",
            " [-175661.9609375 ]\n",
            " [-171512.25617981]]\n",
            "(11328, 20)\n",
            "(11328, 21)\n",
            "MSE: 9306700845.37903\n"
          ]
        }
      ],
      "source": [
        "# ╰( ͡° ͜ʖ ͡° )つ──☆*:・ﾟ\n",
        "from sklearn.preprocessing import OneHotEncoder\n",
        "\n",
        "hot_enc = OneHotEncoder()\n",
        "\n",
        "y_test = data_test[:,numeric_features[6]].astype(np.float64)\n",
        "\n",
        "hot_enc.fit(data_train[:, categorical_features])\n",
        "\n",
        "z = hot_enc.transform(x_train).toarray()\n",
        "\n",
        "print(np.ones(len(x_train)).shape, np.array(z).T.shape)\n",
        "\n",
        "A = np.vstack([np.ones(len(x_train)), np.array(z).T]).T\n",
        "\n",
        "func = np.linalg.inv((A.T @ A)) @ A.T @ np.vstack(y_train)\n",
        "\n",
        "print(func.shape)\n",
        "\n",
        "z_test = hot_enc.transform(x_test).toarray()\n",
        "\n",
        "print(func)\n",
        "\n",
        "print(z_test.shape)\n",
        "\n",
        "p = np.vstack((np.ones(len(z_test)).T, z_test.T)).T\n",
        "\n",
        "print(p.shape)\n",
        "\n",
        "pred = p @ func\n",
        "\n",
        "mse = np.mean((np.square(pred.T - y_test.T)))\n",
        "\n",
        "#print(np.sum(sum(sum([func[i + 1] * z_test.T[i] for i in range(20)]) + func[0] - y_test) ** 2) / len(z_test))\n",
        "\n",
        "#mse = np.sum((func[0] + func[1] * z_test.T[0] + func[2] * z_test.T[1] + func[3] * z_test.T[2] - y_test) ** 2) / len(x_test)\n",
        "\n",
        "print('MSE:', mse, sep=' ')"
      ]
    },
    {
      "cell_type": "markdown",
      "metadata": {
        "id": "rSOmE1iLty7n"
      },
      "source": [
        "Подумайте, в чём потенциальные проблемы такого кодирования? Какие недочёты прошлого метода кодирования исправляет предложенный способ? Какие недочёты есть у этого метода кодирования, которых нет у предыдущего? Который из двух методов выдаёт лучшее качество?"
      ]
    },
    {
      "cell_type": "markdown",
      "metadata": {
        "id": "8grwr0ZBuIgq"
      },
      "source": [
        "Ваше обоснование здесь: ╰( ͡° ͜ʖ ͡° )つ──☆*:・ﾟ\n",
        "\n",
        "Первый. Проблема второго, на мой взгляд, в том, что категориальные признаки разбились на кучу разных, в итоге исходных категориальных стало так много, что они стали перевешивать численные и все испортили ⭐"
      ]
    },
    {
      "cell_type": "markdown",
      "metadata": {
        "id": "IBEMSIfuzoGJ"
      },
      "source": [
        "**7. [0,5 баллов]** Обучите линейную модель на всех данных, выполнив все необходимые преобразования. Постарайтесь добиться меньшей ошибки модели, чем во всех предыдущих заданиях."
      ]
    },
    {
      "cell_type": "code",
      "execution_count": null,
      "metadata": {
        "id": "HiXPa1UcQYje",
        "colab": {
          "base_uri": "https://localhost:8080/"
        },
        "outputId": "6e4b9e3b-385c-4a26-f757-eb240e186939"
      },
      "outputs": [
        {
          "output_type": "stream",
          "name": "stdout",
          "text": [
            "MSE:  1697461.3903858466\n"
          ]
        }
      ],
      "source": [
        "# ╰( ͡° ͜ʖ ͡° )つ──☆*:・ﾟ\n",
        "\n",
        "\n",
        "x_train = data_train[:, numeric_features[:6]].astype(np.float64)\n",
        "\n",
        "x_test = data_test[:, numeric_features[:6]].astype(np.float64)\n",
        "\n",
        "y_test = data_test[:, numeric_features[6]].astype(np.float64)\n",
        "\n",
        "woman = data_test[:, categorical_features]\n",
        "\n",
        "man = data_train[:, categorical_features]\n",
        "\n",
        "enc = OrdinalEncoder()\n",
        "\n",
        "enc.fit(data_train[:, categorical_features])\n",
        "\n",
        "enc.fit(data_test[:, categorical_features])\n",
        "\n",
        "cat = enc.transform(man)\n",
        "\n",
        "dog = enc.transform(woman)\n",
        "\n",
        "x_train = np.vstack([x_train.T, cat.T]).T\n",
        "\n",
        "x_test = np.vstack([x_test.T, dog.T]).T\n",
        "\n",
        "y_train = data_train[:, numeric_features[6]].astype(np.float64)\n",
        "\n",
        "A = np.vstack([x_train.T, np.ones(len(x_train))]).T\n",
        "\n",
        "func = np.linalg.inv((A.T @ A)) @ A.T @ np.vstack(y_train)\n",
        "\n",
        "#z_test = hot_enc.transform(x_test).toarray()\n",
        "\n",
        "func = np.append(func[-1], func[:9])\n",
        "\n",
        "p = np.vstack((np.ones(len(x_test)).T, x_test.T)).T\n",
        "\n",
        "\n",
        "pred = p @ func\n",
        "\n",
        "mse = np.mean((np.square(pred - y_test)))\n",
        "\n",
        "print('MSE: ', mse)\n"
      ]
    },
    {
      "cell_type": "markdown",
      "metadata": {
        "id": "TOt1HIMMg0nu"
      },
      "source": [
        "### Feature engineering"
      ]
    },
    {
      "cell_type": "markdown",
      "metadata": {
        "id": "Ua8Hc_I2NdE8"
      },
      "source": [
        "#### Описание задания.\n",
        "\n",
        "В рамках этого задания вам предстоит улучшить модель и сделать предсказания на выборке из файла`diamonds_test.csv`, ответов к которой мы вам не дадим. Полученные предсказания вам нужно будет сдать в соревнование на сайте [kaggle.com](https://www.kaggle.com/c/hse-lab-linear-regression-21-22/overview). Подробнее о том, как сдавать предсказания, написано в конце раздела. Разумеется, чтобы иметь возможность сдать предсказания, вам нужно быть зарегистрированными на сайте. \n",
        "\n",
        "Оценка за задание рассчитывается исходя из ошибки полученных вами предсказаний и состоит из базовой части и бонусных баллов. Базовая часть оценки определяется следующими пороговыми значениями качества:\n",
        "\n",
        "*   MSE $\\leq 1950000$ ---- 0,25 балла\n",
        "*   MSE $\\leq 1370000$ ---- 0,5 балла\n",
        "*   MSE $\\leq 1280000$ ---- 0,75 балла\n",
        "*   MSE $\\leq 1170000$ ---- 1 балл\n",
        "\n",
        "Если ваша модель выдаёт качество сильно лучше, чем требуется в пороге на 1 балл, то вы можете претендовать на бонусные баллы, приняв участие в полноценном соревновании, смысл которого в том, чтобы получить качество как можно лучше (добиться наименьшей возможной ошибки). \n",
        "\n",
        "Если вы хотите поучаствовать, то просто продолжайте улучшать вашу модель и сдавать предсказания в соревнование. Бонусные баллы будут рассчитываться на основе ошибки полученных вами предсказаний и вашей позиции в лидерборде соревнования. Как именно будет рассчитываться оценка --- мы вам сообщим после завершения соревнования. Точно можем сказать, что наибольшее число баллов за задание получит только один студент --- тот, кто будет находиться на первой позиции в лидерборде на момент дедлайна. Человек на следующем месте уже получит немного меньше, следующий --- ещё меньше, и так далее. Каждый студент, качество предсказаний которого хоть немного лучше нашего порога на 1 балл, обязательно получит бонусные баллы.\n",
        "\n",
        "Чтобы подтвердить своё участие в соревновании, вам нужно будет сдать вашу модель вместе с лабораторной (лучше в отдельном файле, но можно её и прямо здесь написать).\n",
        "\n",
        "**Максимум бонусных баллов за задание: 3**"
      ]
    },
    {
      "cell_type": "code",
      "source": [
        "from itertools import combinations_with_replacement\n",
        "from operator import mul\n",
        "from functools import reduce\n",
        "def add_polynomial_features(features, degree):\n",
        "  \"\"\"\n",
        "    features: массив признаков\n",
        "    degree:   показатель степени\n",
        "  \"\"\"\n",
        "  # ╰( ͡° ͜ʖ ͡° )つ──☆*:・ﾟ\n",
        "  perm = list(combinations_with_replacement(features, degree))\n",
        "  ans = []\n",
        "  for elem in perm:\n",
        "    ans.append(reduce(mul, elem))\n",
        "  return np.array(ans)\n",
        "  raise NotImplementedError()\n",
        "\n",
        "# Пример: получаем полиномиальные признаки степени 2 на основе признаков x, y, z:\n",
        "poly_features = add_polynomial_features(data[:, [6, 7, 8]].astype(np.float64).T, 2)\n",
        "assert poly_features.shape[0] == 6 "
      ],
      "metadata": {
        "id": "1bMiRt-YTH3z"
      },
      "execution_count": null,
      "outputs": []
    },
    {
      "cell_type": "code",
      "source": [
        "poly_features = data_train[:, [numeric_features[0], numeric_features[2]]].astype(np.float64)\n",
        "\n",
        "poly = add_polynomial_features(poly_features.T, 2)\n",
        "\n",
        "x_train = data_train[:, numeric_features[:6]].astype(np.float64)\n",
        "\n",
        "x_test = data_test[:, numeric_features[:6]].astype(np.float64)\n",
        "\n",
        "y_test = data_test[:, numeric_features[6]].astype(np.float64)\n",
        "\n",
        "woman = data_test[:, categorical_features]\n",
        "\n",
        "man = data_train[:, categorical_features]\n",
        "\n",
        "enc = OrdinalEncoder()\n",
        "\n",
        "enc.fit(data_train[:, categorical_features])\n",
        "\n",
        "enc.fit(data_test[:, categorical_features])\n",
        "\n",
        "cat = enc.transform(man)\n",
        "\n",
        "dog = enc.transform(woman)\n",
        "\n",
        "\n",
        "x_train = np.vstack([x_train.T, cat.T]).T\n",
        "\n",
        "#print(x_train.shape, poly.shape)\n",
        "\n",
        "x_train = np.vstack([x_train.T, poly]).T\n",
        "\n",
        "x_test = np.vstack([x_test.T, dog.T]).T\n",
        "\n",
        "y_train = data_train[:, numeric_features[6]].astype(np.float64)\n",
        "\n",
        "#print(x_train.shape)\n",
        "\n",
        "A = np.vstack([x_train.T, np.ones(len(x_train))]).T\n",
        "\n",
        "#A = np.vstack([A.T, np.ones(len(x_train))]).T\n",
        "\n",
        "\n",
        "func = np.linalg.inv((A.T @ A)) @ A.T @ np.vstack(y_train)\n",
        "\n",
        "\n",
        "#z_test = hot_enc.transform(x_test).toarray()\n",
        "\n",
        "func = np.append(func[-1], func[:12])\n",
        "\n",
        "poly = add_polynomial_features(data_test[:, [numeric_features[0], numeric_features[2]]].astype(np.float64).T, 2)\n",
        "\n",
        "x_test = np.vstack([x_test.T, poly]).T\n",
        "\n",
        "p = np.vstack((np.ones(len(x_test)).T, x_test.T)).T\n",
        "\n",
        "pred = p @ func\n",
        "\n",
        "mse = np.mean((np.square(pred - y_test)))\n",
        "\n",
        "print('MSE: ', mse)"
      ],
      "metadata": {
        "colab": {
          "base_uri": "https://localhost:8080/"
        },
        "id": "k0Nm6OmLTOGZ",
        "outputId": "f7c7dd8b-e1aa-4f88-ba28-47ac2779d7e8"
      },
      "execution_count": null,
      "outputs": [
        {
          "output_type": "stream",
          "name": "stdout",
          "text": [
            "MSE:  1665087.7085883745\n"
          ]
        }
      ]
    },
    {
      "cell_type": "markdown",
      "metadata": {
        "id": "esBQkVIY25zH"
      },
      "source": [
        "\n",
        "\n",
        "---\n",
        "\n"
      ]
    },
    {
      "cell_type": "markdown",
      "metadata": {
        "id": "ujFRVw0_focC"
      },
      "source": [
        "В оставшейся части данного раздела приводятся несколько заданий, за выполнение котороых вы не получите баллов. Эти задания даны специально, чтобы вы посмотрели, какие есть идеи для дальнейшего улучшения модели.  Разумеется, мы не требуем от вас, чтобы ваша финальная модель следовала указаниям из этих заданий --- вы можете вообще не выполнять ни одного задания отсюда, оцениваться будут только сданные вами предсказания.\n",
        "\n",
        "\n",
        "\n"
      ]
    },
    {
      "cell_type": "markdown",
      "metadata": {
        "id": "Qa714bBHg8_B"
      },
      "source": [
        "До сих пор мы только исследовали вопрос, как подготовить признаки из датасета, чтобы модель могла на их основе делать какие-то предсказания. При этом до сих пор мы никак не учитывали специфичность задачи: действительно, до этого момента нас интересовало только то, является ли признак числовым или категориальным, мы никак не учитывали физический смысл признаков. Однако часто датасеты предоставляют лишь самую общую информацию об объектах: признаки, которые легко измерить и запомнить. В таком случае при анализе данных нужно выдумывать собственные признаки, которые некоторым образом зависят от уже представленных в датасете признаков и **ни в коем случае не зависят от объясняемой переменной**.\n",
        "\n",
        "В общем случае процесс придумывания новых признаков довольно творческий. Есть, конечно, некоторые более-менее общие подходы, позволяющие улучшить качество модели путём добавления новых признаков, но часто аналитики придумывают признаки, основываясь не только на известных эвристиках, но и на собственном представлении о жизни.\n",
        "\n",
        "Давайте теперь поисследуем наши данные и подумаем, какие признаки можно добавить, чтобы улучшить модель."
      ]
    },
    {
      "cell_type": "markdown",
      "metadata": {
        "id": "bPhiy1IhiLow"
      },
      "source": [
        "**8.** Нарисуйте графики, отображающие зависимость цены алмаза от веса, длины, ширины и глубины (всего должно получиться 4 графика). Проинтерпретируйте наблюдаемую на них зависимость. Согласуется ли она с вашими представлениями о жизни?\n",
        "\n",
        "*Примечание: для изображения зависимости одной величины от другой лучше всего подходит график типа scatter.*"
      ]
    },
    {
      "cell_type": "code",
      "execution_count": null,
      "metadata": {
        "id": "nQzcpqqNkGYq",
        "colab": {
          "base_uri": "https://localhost:8080/",
          "height": 282
        },
        "outputId": "6e28b6e2-5ea5-4fd3-b936-30d589d50551"
      },
      "outputs": [
        {
          "output_type": "execute_result",
          "data": {
            "text/plain": [
              "<matplotlib.collections.PathCollection at 0x7f0a29cecad0>"
            ]
          },
          "metadata": {},
          "execution_count": 20
        },
        {
          "output_type": "display_data",
          "data": {
            "text/plain": [
              "<Figure size 432x288 with 1 Axes>"
            ],
            "image/png": "[encoded data removed]"
          },
          "metadata": {
            "needs_background": "light"
          }
        }
      ],
      "source": [
        "# ╰( ͡° ͜ʖ ͡° )つ──☆*:・ﾟ\n",
        "\n",
        "plt.scatter(data_train[:, numeric_features[2]].astype(np.float32), data_train[:, numeric_features[6]].astype(np.float32))\n"
      ]
    },
    {
      "cell_type": "code",
      "source": [
        "plt.scatter(data_train[:, numeric_features[3]].astype(np.float32), data_train[:, numeric_features[6]].astype(np.float32))"
      ],
      "metadata": {
        "colab": {
          "base_uri": "https://localhost:8080/",
          "height": 282
        },
        "id": "pXOLISDhJVp2",
        "outputId": "603ad5b1-8534-49bb-a6d0-4a5d80690686"
      },
      "execution_count": null,
      "outputs": [
        {
          "output_type": "execute_result",
          "data": {
            "text/plain": [
              "<matplotlib.collections.PathCollection at 0x7f0a29c6e790>"
            ]
          },
          "metadata": {},
          "execution_count": 21
        },
        {
          "output_type": "display_data",
          "data": {
            "text/plain": [
              "<Figure size 432x288 with 1 Axes>"
            ],
            "image/png": "[encoded data removed]"
          },
          "metadata": {
            "needs_background": "light"
          }
        }
      ]
    },
    {
      "cell_type": "code",
      "source": [
        "plt.scatter(data_train[:, numeric_features[4]].astype(np.float32), data_train[:, numeric_features[6]].astype(np.float32))"
      ],
      "metadata": {
        "colab": {
          "base_uri": "https://localhost:8080/",
          "height": 282
        },
        "id": "vgt8rWCYJYT6",
        "outputId": "5f14aca3-22ce-49e6-c35d-e27c24dd8f22"
      },
      "execution_count": null,
      "outputs": [
        {
          "output_type": "execute_result",
          "data": {
            "text/plain": [
              "<matplotlib.collections.PathCollection at 0x7f0a29c3d9d0>"
            ]
          },
          "metadata": {},
          "execution_count": 22
        },
        {
          "output_type": "display_data",
          "data": {
            "text/plain": [
              "<Figure size 432x288 with 1 Axes>"
            ],
            "image/png": "[encoded data removed]"
          },
          "metadata": {
            "needs_background": "light"
          }
        }
      ]
    },
    {
      "cell_type": "code",
      "source": [
        "plt.scatter(data_train[:, numeric_features[5]].astype(np.float32), data_train[:, numeric_features[6]].astype(np.float32))"
      ],
      "metadata": {
        "colab": {
          "base_uri": "https://localhost:8080/",
          "height": 282
        },
        "id": "3P8KIKqkJbRG",
        "outputId": "67236e4b-19c6-4f70-cd50-ef36b4f28b33"
      },
      "execution_count": null,
      "outputs": [
        {
          "output_type": "execute_result",
          "data": {
            "text/plain": [
              "<matplotlib.collections.PathCollection at 0x7f0a29c13750>"
            ]
          },
          "metadata": {},
          "execution_count": 23
        },
        {
          "output_type": "display_data",
          "data": {
            "text/plain": [
              "<Figure size 432x288 with 1 Axes>"
            ],
            "image/png": "[encoded data removed]"
          },
          "metadata": {
            "needs_background": "light"
          }
        }
      ]
    },
    {
      "cell_type": "markdown",
      "metadata": {
        "id": "jd6J9SQlkGwZ"
      },
      "source": [
        "Подумайте, какую функцию можно применить к признакам, чтобы зависимость целевой переменной от них больше напоминала линейную?"
      ]
    },
    {
      "cell_type": "markdown",
      "metadata": {
        "id": "hU63JZex0h_P"
      },
      "source": [
        "Ваше обоснование здесь: ╰( ͡° ͜ʖ ͡° )つ──☆*:・ﾟ"
      ]
    },
    {
      "cell_type": "markdown",
      "metadata": {
        "id": "1L7iSqah0mYd"
      },
      "source": [
        "**9.** На одном рисунке изобразите график зависимости целевой переменной от признака depth и график зависимости целевой переменной от признака table. Чтобы картинка получилась читаемой, сделайте графики полупрозрачными (параметр `alpha`). Что вы можете сказать о получившемся рисунке? Правда ли, что модели будет достаточно оставить только один из этих признаков? Убедитесь в этом, нарисовав аналогичные графики зависимости признаков depth и table от других числовых признаков.\n",
        "\n",
        "*Примечание: почитайте про plt.subplots, чтобы узнать, как красиво рисовать несколько графиков.*"
      ]
    },
    {
      "cell_type": "code",
      "execution_count": null,
      "metadata": {
        "id": "UqTp9xWY28Av"
      },
      "outputs": [],
      "source": [
        "# ╰( ͡° ͜ʖ ͡° )つ──☆*:・ﾟ"
      ]
    },
    {
      "cell_type": "markdown",
      "metadata": {
        "id": "6kZjZ2Ww3YF0"
      },
      "source": [
        "Казалось бы, мы тут пытаемся придумать новые признаки, чтобы улучшить модель, зачем нам выбрасывать уже имеющиеся признаки? Дело в том, что если в выборке есть \"похожие\" в некотором смысле признаки, то модель, обученная на таких данных, может выдавать худший результат, чем если бы похожих признаков в выборке не было. Продемонстрируем это явление на практике."
      ]
    },
    {
      "cell_type": "markdown",
      "metadata": {
        "id": "5x3TzT7V4gDP"
      },
      "source": [
        "**10.** Обучите линейную модель, предсказывающую цену алмазов на признаках x, y, z из наших данных. Замерьте качество полученной линейной модели на тестовой выборке, после чего добавьте признак $\\tau = \\frac{x}{2} + 4y - z + 1$, и снова обучите линейную модель. Которая из моделей добилась лучшего качества?"
      ]
    },
    {
      "cell_type": "code",
      "execution_count": null,
      "metadata": {
        "id": "ktbNFzsz5gt9"
      },
      "outputs": [],
      "source": [
        "# ╰( ͡° ͜ʖ ͡° )つ──☆*:・ﾟ"
      ]
    },
    {
      "cell_type": "markdown",
      "metadata": {
        "id": "RbZ4u40h_MyO"
      },
      "source": [
        "Объясните, почему наличие похожих признаков в выборке заметно ухудшает качество, выдаваемое линейной моделью?"
      ]
    },
    {
      "cell_type": "markdown",
      "metadata": {
        "id": "gEINdpQy_XcA"
      },
      "source": [
        "Ваше обоснование здесь: ╰( ͡° ͜ʖ ͡° )つ──☆*:・ﾟ"
      ]
    },
    {
      "cell_type": "markdown",
      "metadata": {
        "id": "argZX3YMCb6e"
      },
      "source": [
        "Итак, мы обсудили, исходя из каких соображений можно выбирать преобразования над имеющимися признаками и когда для модели может быть полезнее выкинуть некоторый признак из выборки, чем оставить его. Теперь давайте придумаем совсем новый признак. Для этого снова посмотрим на такие характеристики алмазов, как длина, ширина и глубина. Эти характеристики несомненно важны для предсказания цены алмазов, и все построенные нами модели находили какую-то закономерность, но теперь давайте мы попробуем их объединить в новом признаке `объём`. Для начала будем считать, что объём алмаза неплохо приближается объёмом параллелепипеда с такими же измерениями."
      ]
    },
    {
      "cell_type": "markdown",
      "metadata": {
        "id": "DtlMCLwEDhhG"
      },
      "source": [
        "**11.** Обучите линейную модель на 4 признаках: x, y, z, и объём параллелепипеда со сторонами (x, y, z). Сравните качество полученной модели с качеством, выдаваемым моделью, обученной на признаках x, y, z."
      ]
    },
    {
      "cell_type": "code",
      "execution_count": null,
      "metadata": {
        "id": "5fgSn6IZELmT"
      },
      "outputs": [],
      "source": [
        "# ╰( ͡° ͜ʖ ͡° )つ──☆*:・ﾟ"
      ]
    },
    {
      "cell_type": "markdown",
      "metadata": {
        "id": "6XuJr72iGBSy"
      },
      "source": [
        "Понятно, что алмазы редко выглядят как идеальные параллелепипеды (хотя, конечно, многое зависит от огранки), и чаще встречаются алмазы, форма которых скорее напоминает эллипсоид. Снова обучите линейную модель на 4 признаках: x, y, z и объём эллипсоида с осями (x, y, z). Сравните полученную модель с предыдущей. Сильно ли отличается качество у этих моделей? Объясните, почему так получилось?"
      ]
    },
    {
      "cell_type": "code",
      "execution_count": null,
      "metadata": {
        "id": "5ZzmZmNhIKDo"
      },
      "outputs": [],
      "source": [
        "# ╰( ͡° ͜ʖ ͡° )つ──☆*:・ﾟ"
      ]
    },
    {
      "cell_type": "markdown",
      "metadata": {
        "id": "c7r5Je0uI6pj"
      },
      "source": [
        "Если вам стало интересно, можете попробовать обучить модель, аппроксимируя объём алмаза объёмом тетраэдра. Впрочем, если вы ответили на предыдущий вопрос, вы уже наверняка представляете, что получится. В любом случае мы не настаиваем =)\n",
        "\n",
        "Следующий трюк, который мы обсудим, --- это бинаризация признаков. Суть заключается в том, что мы берём некоторый признак из выборки и делаем из него несколько бинарных признаков (т.е. таких признаков, значения которых могут быть либо $0$, либо $1$). Частный случай бинаризации признаков мы уже разбирали, когда занимались кодированием категориальных признаков: тогда мы брали признак $P$, описывающий принадлежность объекта к одной из $N$ категорий ${A_1, \\ldots, A_N}$, и делали из него $N$ признаков вида $[P = A_1], [P = A_2], \\ldots [P = A_N]$.\n",
        "\n",
        "Однако это не единственный способ бинаризовать признаки. Допустим $P$ --- числовой признак, тогда мы, например, можем выбрать $k$ порогов ${t_1, \\ldots, t_k}$ и превратить признак $P$ в $k$ бинарных признаков $[P \\leq t_1], [t_1 < P \\leq t_2], \\ldots, [t_{k-1} < P \\leq t_k]$.\n",
        "\n",
        "Если же у нас есть два признака $P$ и $F$, мы можем применять булевы операции к их бинаризациям, например $[P < t_1 \\vee F > h_1], [t_2 < P \\leq t_3 \\wedge h_2 \\leq F \\leq h_3], [(P = t_4 \\vee F = h_4) \\wedge P \\leq t_5]$, и т.д.\n",
        "\n",
        "Давайте с помощью бинаризации выделим объекты, цена которых скорее всего будет высокой, и объекты, цена которых скорее всего будет низкой. Делать мы это будем на основе категориальных признаков (закодированных любым способом, однако если вы предпочитаете кодирование бинаризацией, т.е. второй способ, то при выполнении задания не забывайте, что признаки должны быть линейно независимы). Чтобы вы понимали, как именно категориальные признаки характеризуют алмазы, мы приложили вам картинку `categorical_descriptions`.\n",
        "\n",
        "![](https://lh3.google.com/u/0/d/1xzqbnwyOazKNiiJxNo_AUh7iUsTONC-0=w1920-h1090-iv1)"
      ]
    },
    {
      "cell_type": "markdown",
      "metadata": {
        "id": "ADOr1ZH6Y1OQ"
      },
      "source": [
        "**12.** Обучите линейную модель, предсказывающую цену алмазов на категориальных признаках из наших данных. Замерьте качество полученной линейной модели на тестовой выборке, после чего добавьте признаки, которые явно выделят алмазы, цена на которые скорее всего будет высокой, и алмазы, цена которых скорее всего будет низкой, и снова обучите линейную модель. Вы можете также добавить и свои признаки и использовать не только категориальные признаки (например, если вам захочется добавить признак \"у алмаза лучшая чистота И алмаз совершенно бесцветный И объём алмаза не меньше $t$\"). Удалось ли добиться прироста в качестве?"
      ]
    },
    {
      "cell_type": "code",
      "execution_count": null,
      "metadata": {
        "id": "7sxhbqDPZyfH"
      },
      "outputs": [],
      "source": [
        "# ╰( ͡° ͜ʖ ͡° )つ──☆*:・ﾟ"
      ]
    },
    {
      "cell_type": "markdown",
      "metadata": {
        "id": "AbIbDwNci6Mf"
      },
      "source": [
        "#### Как сдавать предсказания?\n",
        "\n",
        "Передайте в написанную нами функцию `make_submission` ваши предсказания. Когда функция отработает, у вас в рабочей директории появится файл `submission.csv`, который вам и нужно сдать в соревнование."
      ]
    },
    {
      "cell_type": "code",
      "execution_count": null,
      "metadata": {
        "id": "m4gv1RKjjtxA"
      },
      "outputs": [],
      "source": [
        "def make_submission(y_pred):\n",
        "  file = np.arange(1, len(y_pred) + 1)\n",
        "  file = file.reshape(-1, 1)\n",
        "  file = np.concatenate([file, y_pred.reshape(-1, 1).astype(float)], axis=1)\n",
        "  with open(\"submission.csv\", \"w\") as f:\n",
        "    f.write(\"id,price\\n\")\n",
        "    np.savetxt(f, file, delimiter=\",\", fmt=\"%d,%10.5f\")\n",
        "\n",
        "func[0] *= 1.01\n",
        "# пример вызова функции:\n",
        "make_submission(np.zeros(16182))"
      ]
    },
    {
      "cell_type": "code",
      "source": [
        "kaggle = np.loadtxt(\"diamonds_test.csv\", delimiter=\",\", dtype=\"str\")[1:, :]\n",
        "\n"
      ],
      "metadata": {
        "id": "_GrF1YsIU_TB"
      },
      "execution_count": null,
      "outputs": []
    },
    {
      "cell_type": "code",
      "source": [
        "poly_features = data_train[:, [numeric_features[0], numeric_features[2]]].astype(np.float64)\n",
        "\n",
        "poly = add_polynomial_features(poly_features.T, 2)\n",
        "\n",
        "x_test = kaggle[:, numeric_features[:6]].astype(np.float64)\n",
        "\n",
        "woman = kaggle[:, categorical_features]\n",
        "\n",
        "enc = OrdinalEncoder()\n",
        "\n",
        "enc.fit(kaggle[:, categorical_features])\n",
        "\n",
        "dog = enc.transform(woman)\n",
        "\n",
        "x_test = np.vstack([x_test.T, dog.T]).T\n",
        "\n",
        "\n",
        "poly = add_polynomial_features(kaggle[:, [numeric_features[0], numeric_features[2]]].astype(np.float64).T, 2)\n",
        "\n",
        "x_test = np.vstack([x_test.T, poly]).T\n",
        "\n",
        "p = np.vstack((np.ones(len(x_test)).T, x_test.T)).T\n",
        "\n",
        "pred = p @ func\n",
        "\n",
        "make_submission(pred)\n"
      ],
      "metadata": {
        "id": "Eeu1TNuRV2v5"
      },
      "execution_count": null,
      "outputs": []
    },
    {
      "cell_type": "markdown",
      "metadata": {
        "id": "4aHgP-6qfl0D"
      },
      "source": [
        "### Задание 3. Регуляризация (3.9 баллов)\n",
        "\n"
      ]
    },
    {
      "cell_type": "markdown",
      "metadata": {
        "id": "6RcCzJLjm8a6"
      },
      "source": [
        "Конечно, никто не гарантирует, что объясняемая переменная зависит от остальных характеристик именно линейно, поэтому мы можем неслабо улучшить модель, добавляя в неё нелинейные признаки на основе уже имеющихся. Один из наиболее распространённых подходов заключается в добавлении в выборку полиномиальных признаков некоторой фиксированной степени на основе уже имеющихся. Т.е., скажем, у нас есть признаки {P, F, G} и наша задача состоит в том, чтобы добавить в выборку полиномиальные признаки степени $2$ на основе имеющихся. Тогда мы добавим в выборку признаки\n",
        "\n",
        "$$\n",
        "P^2, F^2, G^2, PF, PG, FG.\n",
        "$$\n",
        "\n",
        "Аналогично для большего числа признаков и больших степеней.\n",
        "\n",
        "**1. [0,4 баллов]** Реализуйте функцию `add_polynomial_features`, принимающую массив признаков, и степень, и возвращающую полиномиальные признаки заданной степени."
      ]
    },
    {
      "cell_type": "code",
      "execution_count": null,
      "metadata": {
        "id": "_lnytPeGnEFP"
      },
      "outputs": [],
      "source": [
        "from itertools import combinations_with_replacement\n",
        "from operator import mul\n",
        "from functools import reduce\n",
        "def add_polynomial_features(features, degree):\n",
        "  \"\"\"\n",
        "    features: массив признаков\n",
        "    degree:   показатель степени\n",
        "  \"\"\"\n",
        "  # ╰( ͡° ͜ʖ ͡° )つ──☆*:・ﾟ\n",
        "  perm = list(combinations_with_replacement(features, degree))\n",
        "  ans = []\n",
        "  for elem in perm:\n",
        "    ans.append(reduce(mul, elem))\n",
        "  return np.array(ans)\n",
        "  raise NotImplementedError()\n",
        "\n",
        "# Пример: получаем полиномиальные признаки степени 2 на основе признаков x, y, z:\n",
        "poly_features = add_polynomial_features(data[:, [6, 7, 8]].astype(np.float64).T, 2)\n",
        "assert poly_features.shape[0] == 6 "
      ]
    },
    {
      "cell_type": "markdown",
      "metadata": {
        "id": "TqwGy6HEnX6W"
      },
      "source": [
        "Обучите линейную модель, добавив в выборку полиномиальные признаки степени $2$ от признаков carat и table. Сравните качество полученной модели с качеством модели из пункта 7 предыдущего задания."
      ]
    },
    {
      "cell_type": "code",
      "execution_count": null,
      "metadata": {
        "id": "MPI707WOn1op",
        "colab": {
          "base_uri": "https://localhost:8080/"
        },
        "outputId": "5a9a29fe-dc73-4dc9-e16e-249efba05b5b"
      },
      "outputs": [
        {
          "output_type": "stream",
          "name": "stdout",
          "text": [
            "MSE:  1665087.7085883745\n"
          ]
        }
      ],
      "source": [
        "# ╰( ͡° ͜ʖ ͡° )つ──☆*:・ﾟ\n",
        "\n",
        "\n",
        "poly_features = data_train[:, [numeric_features[0], numeric_features[2]]].astype(np.float64)\n",
        "\n",
        "poly = add_polynomial_features(poly_features.T, 2)\n",
        "\n",
        "x_train = data_train[:, numeric_features[:6]].astype(np.float64)\n",
        "\n",
        "x_test = data_test[:, numeric_features[:6]].astype(np.float64)\n",
        "\n",
        "y_test = data_test[:, numeric_features[6]].astype(np.float64)\n",
        "\n",
        "woman = data_test[:, categorical_features]\n",
        "\n",
        "man = data_train[:, categorical_features]\n",
        "\n",
        "enc = OrdinalEncoder()\n",
        "\n",
        "enc.fit(data_train[:, categorical_features])\n",
        "\n",
        "enc.fit(data_test[:, categorical_features])\n",
        "\n",
        "cat = enc.transform(man)\n",
        "\n",
        "dog = enc.transform(woman)\n",
        "\n",
        "\n",
        "x_train = np.vstack([x_train.T, cat.T]).T\n",
        "\n",
        "#print(x_train.shape, poly.shape)\n",
        "\n",
        "x_train = np.vstack([x_train.T, poly]).T\n",
        "\n",
        "x_test = np.vstack([x_test.T, dog.T]).T\n",
        "\n",
        "y_train = data_train[:, numeric_features[6]].astype(np.float64)\n",
        "\n",
        "#print(x_train.shape)\n",
        "\n",
        "A = np.vstack([x_train.T, np.ones(len(x_train))]).T\n",
        "\n",
        "#A = np.vstack([A.T, np.ones(len(x_train))]).T\n",
        "\n",
        "\n",
        "func = np.linalg.inv((A.T @ A)) @ A.T @ np.vstack(y_train)\n",
        "\n",
        "\n",
        "#z_test = hot_enc.transform(x_test).toarray()\n",
        "\n",
        "func = np.append(func[-1], func[:12])\n",
        "\n",
        "poly = add_polynomial_features(data_test[:, [numeric_features[0], numeric_features[2]]].astype(np.float64).T, 2)\n",
        "\n",
        "x_test = np.vstack([x_test.T, poly]).T\n",
        "\n",
        "p = np.vstack((np.ones(len(x_test)).T, x_test.T)).T\n",
        "\n",
        "pred = p @ func\n",
        "\n",
        "mse = np.mean((np.square(pred - y_test)))\n",
        "\n",
        "print('MSE: ', mse)\n"
      ]
    },
    {
      "cell_type": "markdown",
      "metadata": {
        "id": "_ihqwU4rvAKw"
      },
      "source": [
        "Итак, мы узнали, что в выборку можно добавлять полиномиальные признаки от уже имеющихся числовых признаков и, как правило, это приводит к существенному приросту качества. Возникает естественный вопрос: почему бы не свести задачу построения линейной модели к подбору степени полиномиальных признаков? Ведь наверняка можно найти такую степень, при которой модель будет выдавать наилучшее возможное качество? Давайте исследуем этот вопрос."
      ]
    },
    {
      "cell_type": "markdown",
      "metadata": {
        "id": "Ug11Yg52v5WU"
      },
      "source": [
        "**2. [0,3 баллов]** В этом задании вам нужно обучить 6 линейных моделей на полиномиальных признаках степеней от 1 до 6 от уже имеющихся признаков (carat, x, y, z). Нарисуйте график зависимости качества модели на обучающей и тестовой выборке от степени полиномиальных признаков в логарифмической шкале. Прокомментируйте полученный график: ожидали ли вы такого эффекта? "
      ]
    },
    {
      "cell_type": "code",
      "execution_count": null,
      "metadata": {
        "id": "JGvdh2Wmwwh_"
      },
      "outputs": [],
      "source": [
        "# ╰( ͡° ͜ʖ ͡° )つ──☆*:・ﾟ\n"
      ]
    },
    {
      "cell_type": "markdown",
      "metadata": {
        "id": "PKtmVN-Dww4h"
      },
      "source": [
        "Наблюдаемый вами эффект называется переобучением: ситуация, когда модель становится слишком зависимой от обучающей выборки. Действительно, в процессе обучения модели мы стараемся минимизировать ошибку именно на обучающей выборке, и совершенно неочевидно, почему обученная модель будет обобщаться на объекты, которых она раньше не видела.\n",
        "\n",
        "Когда мы начали добавлять в выборку полиномиальные признаки большой степени, модель стала настолько сложной, что обрела способность запомнить обучающую выборку вместо того, чтобы извлекать из неё какие-то закономерности. Как следствие, когда мы подали модели на вход выборку, отличную от обучающей, мы получили колоссальную ошибку.\n",
        "\n",
        "Ситуация, когда качество модели на обучающей выборке гораздо ниже качества на тестовой выборке, является самым явным симптомом переобучения, но не единственным. Часто в ситуации переобучения можно наблюдать необычайно большие по модулю коэффициенты модели.\n",
        "\n",
        "Есть много способов борьбы с этим злом. Один из них --- регуляризация. Сейчас мы рассмотрим одну из её разновидностей --- **L2-регуляризацию**. Идея в том, чтобы подправить матрицу $X^TX$, сделав её \"получше\". Например, это можно сделать, заменив её на $(X^TX + \\lambda E)$, где $\\lambda > 0$ --- некоторый скаляр. Пожертвовав точностью на обучающей выборке, мы тем не менее получаем численно более стабильное псевдорешение $a = (X^TX + \\lambda E)^{-1}X^Ty$ и снижаем эффект переобучения. *Гиперпараметр* $\\lambda$ нужно подбирать, и каких-то универсальных способов это делать нет, но зачастую можно его подобрать таким, чтобы ошибка на тестовой выборке падала.\n",
        "\n",
        "Однако есть некоторые правила, которых стоит придерживаться при подборе коэффициента регуляризации. Обычно в такой ситуации всю выборку делят на три части: обучающую, *валидационную* и тестовую. Сначала по валидационной подбирают значение гиперпараметра, потом по обучающей строят модель, а по тестовой оценивают её итоговое качество. Кроме того, подбирать $\\lambda$ нужно по логарифметической сетке, чтобы узнать оптимальный порядок величины."
      ]
    },
    {
      "cell_type": "markdown",
      "metadata": {
        "id": "KRr312xvz-Cx"
      },
      "source": [
        "**3. [0,1 балла]** Подумайте, почему не стоит подбирать коэффициент регуляризации по обучающей выборке? По тестовой выборке?"
      ]
    },
    {
      "cell_type": "markdown",
      "metadata": {
        "id": "PjYAT3i-0GGX"
      },
      "source": [
        "Ваше обоснование здесь: ╰( ͡° ͜ʖ ͡° )つ──☆*:・ﾟ"
      ]
    },
    {
      "cell_type": "markdown",
      "metadata": {
        "id": "nQlJbhvH0SBD"
      },
      "source": [
        "**4. [0,3 балла]** Рассмотрим линейную можель с полиномиальными признаками степени $4$ от признаков (carat, x, y, z). Качество такой модели на обучающей выборке уже заметно лучше, чем качество на тестовой. Попробуем исправить эту ситуацию, применив $L2$-регуляризацию. Поделите вашу обучающую выборку на две части в соотношении $8:2$. Большую часть вы вновь объявите обучающей выборкой, а меньшую --- валидационной. Подберите гиперпараметр $\\lambda$ по логарифмической сетке таким образом, чтобы линейная модель с \"подправленной\" матрицей Грама $X^TX$ выдавала лучшее качество на валидационной выборке. Обучите линейную модель с подобранным параметром $\\lambda$ на обучающей выборке и протестируйте её на тестовых данных. Сделайте вывод: помогла ли нам регуляризация?\n",
        "\n",
        "*Примечание: np.logspace вам в помощь.*"
      ]
    },
    {
      "cell_type": "code",
      "execution_count": null,
      "metadata": {
        "id": "g5rBhgI93MXd"
      },
      "outputs": [],
      "source": [
        "# ╰( ͡° ͜ʖ ͡° )つ──☆*:・ﾟ"
      ]
    },
    {
      "cell_type": "markdown",
      "metadata": {
        "id": "wFeo516Z4ckd"
      },
      "source": [
        "**5. [0,5 балла]** Повторите первое задание, но вместо 6 обычных линейных моделей обучите 6 регуляризованных линейных моделей. Для каждой модели вам нужно будет подобрать свой гиперпараметр $\\lambda$. Сравните полученный график с графиком из первого задания: для всякой ли степени мы смогли улучшить ситуацию? Как выдумаете, почему?"
      ]
    },
    {
      "cell_type": "code",
      "execution_count": null,
      "metadata": {
        "id": "fKPFiHrN4-xO"
      },
      "outputs": [],
      "source": [
        "# ╰( ͡° ͜ʖ ͡° )つ──☆*:・ﾟ"
      ]
    },
    {
      "cell_type": "markdown",
      "metadata": {
        "id": "IwzU99F75DPx"
      },
      "source": [
        "**6. [1,15 балла]** Пусть заданы $X\\in \\text{Mat}_{n \\times k}(\\mathbb{R})$, $\\lambda \\geqslant 0$, а также известно, что $\\text{rk}~X = k \\leqslant n$. Решите следующую задачу оптимизации:\n",
        "$$|Xa - y|^2 + \\lambda|a|^2\\rightarrow\\min\\limits_{a \\in \\mathbb{R}^k}.$$\n",
        "\n",
        "Заметим, что первое слагаемое --- это значение mean-square error (с точностью до домножения на некоторую константу) модели с коэффициентами $a = (a_1, \\ldots, a_k)$. Типичной задачей линейной регрессии является минимизация первого слагаемого по всем векторам $a$. Однако в данном случае кроме минимизации среднеквадратичной ошибки мы также добавляем условие, что при этом и веса модели должны быть как можно меньше. Действительно, мы уже убедились, что чем сложнее модель, тем меньше будет ошибка на обучающей выборке (а именно это ошибку мы и минимизируем в процессе обучения) и тем вероятнее модель будет иметь большие по модулю коэффициенты, а значит, и большое значение $|a|$. Добавляя второе слагаемое в рассматриваемый выше функционал, мы как бы задаём ограничение на абсолютную величину коэффициентов модели. При этом параметр $\\lambda$ явно будет указывать, насколько сильно мы будем штрафовать модель за большие коэффициенты. Заметим, что если $\\lambda = 0$, то мы получаем классическую задачу линейной регресии без регуляризации."
      ]
    },
    {
      "cell_type": "markdown",
      "metadata": {
        "id": "m0l8CtbO7uxo"
      },
      "source": [
        "Ваше решение здесь: ╰( ͡° ͜ʖ ͡° )つ──☆*:・ﾟ"
      ]
    },
    {
      "cell_type": "markdown",
      "metadata": {
        "id": "GVmoHb9PAn75"
      },
      "source": [
        "**7. [0,25 балла]** При построении линейной модели у вас, как правило, есть также и свободный член, не зависящий от признаков из выборки. Подумайте, почему регуляризовать свободный член — плохая идея?"
      ]
    },
    {
      "cell_type": "markdown",
      "metadata": {
        "id": "Pz7uZUdjAn76"
      },
      "source": [
        "Ваше обоснование здесь: ╰( ͡° ͜ʖ ͡° )つ──☆*:・ﾟ"
      ]
    },
    {
      "cell_type": "markdown",
      "metadata": {
        "id": "Gdffe8TCAn76"
      },
      "source": [
        "**8. [0,5 балла]** Пусть теперь $\\text{rk}~X < k$. Всегда ли в этом случае существует решение? Если существует, то является ли оно единственным? Ответ обоснуйте."
      ]
    },
    {
      "cell_type": "markdown",
      "metadata": {
        "id": "P1h46LL8An76"
      },
      "source": [
        "Ваше обоснование здесь: ╰( ͡° ͜ʖ ͡° )つ──☆*:・ﾟ"
      ]
    },
    {
      "cell_type": "code",
      "execution_count": null,
      "metadata": {
        "id": "kgXIcdfoFWgn"
      },
      "outputs": [],
      "source": [
        ""
      ]
    },
    {
      "cell_type": "markdown",
      "metadata": {
        "id": "m7gvthEgAn77"
      },
      "source": [
        "**9. [0,4 балла]** Покажите, что если решений бесконечно много, то среди них обязательно найдутся решения со сколь угодно большими по модулю компонентами вектора $a$."
      ]
    },
    {
      "cell_type": "markdown",
      "metadata": {
        "id": "gVPOHJuZAn77"
      },
      "source": [
        "Ваше обоснование здесь: ╰( ͡° ͜ʖ ͡° )つ──☆*:・ﾟ"
      ]
    },
    {
      "cell_type": "markdown",
      "metadata": {
        "id": "l6hnfV4vAn7-"
      },
      "source": [
        "### Добавление. QR-разложение"
      ]
    },
    {
      "cell_type": "markdown",
      "metadata": {
        "id": "Al3Mv6w8An7-"
      },
      "source": [
        "**QR-разложением** матрицы $A$ (не обязательно квадратной) мы будем называть её представление в виде $A = QR$, где $Q$ — матрица с ортонормированными столбцами, а $R$ - верхнетреугольная матрица.\n",
        "\n",
        "Смысл QR-разложения следующий. Пусть $a_1,\\ldots,a_m$ — столбцы матрицы $A$, $q_1,\\ldots,q_t$ — столбцы матрицы $Q$. Тогда $q_1,\\ldots,q_t$ — это ортонормированный базис в подпространстве, являющемся линейной оболочкой векторов $a_1,\\ldots,a_m$, а в матрице $R$ записаны коэффициенты, с помощью которых $a_i$ выражаются через $q_1,\\ldots,q_t$.\n",
        "\n",
        "Находить QR-разложение заданной матрицы можно разными способами. Мы познакомим Вас не с самым лучшим из них, но по крайней мере с наиболее простым концептуально. Заметим, что ортогональный базис линейной оболочки можно найти с помощью ортогонализации Грама-Шмидта. При этом коэффициенты из матрицы $R$ получаются в качестве побочного продукта этого процесса:\n",
        "\n",
        "```python\n",
        "for j = 1...n:\n",
        "    q_j = a_j\n",
        "    for i = 1,...,j-1:\n",
        "        r_ij = (q_i, a_j)\n",
        "        q_j = q_j - r_ij * q_i\n",
        "    r_jj = |q_j|\n",
        "    if r_jj == 0: # a_j in <a_1,...,a_j-1>\n",
        "        # What would you do in this case?..\n",
        "    q_j = q_j / r_jj\n",
        "```\n",
        "\n",
        "Для нахождения QR-разложения Вы можете использовать библиотечную функцию `scipy.linalg.qr`."
      ]
    },
    {
      "cell_type": "markdown",
      "metadata": {
        "id": "UB3uxms8An7_"
      },
      "source": [
        "Поскольку лабораторная про линейную регрессию, не так-то просто замять вопрос о том, какое же отношение QR-разложение имеет к задаче регрессии. Упомянем одно из возможных применений.\n",
        "\n",
        "Допустим, мы нашли QR-разложение матрицы $X$, а именно: $X = QR$. Тогда\n",
        "$$X^TX = (QR)^T(QR) = R^TQ^TQR = R^TR$$"
      ]
    },
    {
      "cell_type": "markdown",
      "metadata": {
        "id": "2XfyZf8zAn7_"
      },
      "source": [
        "Поскольку в задаче регрессии матрица $X$ обычно полного ранга (то есть её столбцы линейно независимы), матрица $R$ будет квадратной. Благодаря этому нашу обычную формулу для набора регрессионных коэффициентов $\\hat{a}$ можно переписать в следующем виде:\n",
        "\n",
        "$$\\hat{a} = (X^TX)^{-1}X^Ty = (R^TR)^{-1}(QR)^Ty = R^{-1}(R^T)^{-1}R^TQ^Ty = R^{-1}Q^Ty$$\n",
        "\n",
        "Как видите, формула стала проще. Более того, зачастую обращение матрицы $R$ может быть численно более устойчиво, чем обращение матрицы $X^TX$."
      ]
    }
  ],
  "metadata": {
    "colab": {
      "collapsed_sections": [],
      "name": "HSE_Lab_(linear_regression)_21_22.ipynb",
      "provenance": []
    },
    "kernelspec": {
      "display_name": "Python 3",
      "language": "python",
      "name": "python3"
    },
    "language_info": {
      "codemirror_mode": {
        "name": "ipython",
        "version": 3
      },
      "file_extension": ".py",
      "mimetype": "text/x-python",
      "name": "python",
      "nbconvert_exporter": "python",
      "pygments_lexer": "ipython3",
      "version": "3.9.7"
    }
  },
  "nbformat": 4,
  "nbformat_minor": 0
}