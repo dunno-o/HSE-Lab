{
 "cells": [
  {
   "cell_type": "markdown",
   "metadata": {
    "id": "EIuyp8N8r-C7"
   },
   "source": [
    "# Линейная алгебра. Лабораторная работа 1, осень 2021\n"
   ]
  },
  {
   "cell_type": "markdown",
   "metadata": {
    "id": "zjM6eb8Pr-DD"
   },
   "source": [
    "В этой лабораторной работе вы познакомитесь со средой Jupyter Notebook и библиотеками numpy и scipy."
   ]
  },
  {
   "cell_type": "markdown",
   "metadata": {
    "id": "YaJV1GVyr-DE"
   },
   "source": [
    "## Часть 1. Библиотеки"
   ]
  },
  {
   "cell_type": "markdown",
   "metadata": {
    "id": "oM0ZiubOr-DF"
   },
   "source": [
    "В этой лабораторной работе вам понадобятся три библиотеки:\n",
    "\n",
    "- `numpy` - основная библиотека для работы с матрицами;\n",
    "- `scipy`, а точнее модуль `scipy.linalg`, содержащий множество функций линейной алгебры;\n",
    "- `matplotlib` - графическая библиотека\n",
    "\n",
    "Подключить их можно следующим образом:"
   ]
  },
  {
   "cell_type": "code",
   "execution_count": 4,
   "metadata": {
    "scrolled": false
   },
   "outputs": [
    {
     "name": "stdout",
     "output_type": "stream",
     "text": [
      "Collecting matplotlib\n",
      "  Downloading matplotlib-3.5.0-cp39-cp39-manylinux_2_5_x86_64.manylinux1_x86_64.whl (11.2 MB)\n",
      "\u001b[K     |████████████████████████████████| 11.2 MB 12.2 MB/s eta 0:00:01\n",
      "\u001b[?25hCollecting kiwisolver>=1.0.1\n",
      "  Downloading kiwisolver-1.3.2-cp39-cp39-manylinux_2_12_x86_64.manylinux2010_x86_64.whl (1.6 MB)\n",
      "\u001b[K     |████████████████████████████████| 1.6 MB 11.3 MB/s eta 0:00:01\n",
      "\u001b[?25hRequirement already satisfied: packaging>=20.0 in /usr/lib/python3/dist-packages (from matplotlib) (20.9)\n",
      "Requirement already satisfied: numpy>=1.17 in /home/artem/.local/lib/python3.9/site-packages (from matplotlib) (1.21.3)\n",
      "Requirement already satisfied: pyparsing>=2.2.1 in /usr/lib/python3/dist-packages (from matplotlib) (2.4.7)\n",
      "Collecting setuptools-scm>=4\n",
      "  Downloading setuptools_scm-6.3.2-py3-none-any.whl (33 kB)\n",
      "Requirement already satisfied: pillow>=6.2.0 in /usr/lib/python3/dist-packages (from matplotlib) (8.1.2)\n",
      "Collecting cycler>=0.10\n",
      "  Downloading cycler-0.11.0-py3-none-any.whl (6.4 kB)\n",
      "Collecting fonttools>=4.22.0\n",
      "  Downloading fonttools-4.28.1-py3-none-any.whl (873 kB)\n",
      "\u001b[K     |████████████████████████████████| 873 kB 12.9 MB/s eta 0:00:01\n",
      "\u001b[?25hRequirement already satisfied: python-dateutil>=2.7 in /usr/lib/python3/dist-packages (from matplotlib) (2.8.1)\n",
      "Collecting tomli>=1.0.0\n",
      "  Downloading tomli-1.2.2-py3-none-any.whl (12 kB)\n",
      "Requirement already satisfied: setuptools in /usr/lib/python3/dist-packages (from setuptools-scm>=4->matplotlib) (52.0.0)\n",
      "Installing collected packages: tomli, setuptools-scm, kiwisolver, fonttools, cycler, matplotlib\n",
      "Successfully installed cycler-0.11.0 fonttools-4.28.1 kiwisolver-1.3.2 matplotlib-3.5.0 setuptools-scm-6.3.2 tomli-1.2.2\n"
     ]
    }
   ],
   "source": [
    "!pip install matplotlib\n"
   ]
  },
  {
   "cell_type": "code",
   "execution_count": 5,
   "metadata": {
    "executionInfo": {
     "elapsed": 732,
     "status": "ok",
     "timestamp": 1637484668796,
     "user": {
      "displayName": "Артем Парфенов",
      "photoUrl": "https://lh3.googleusercontent.com/a/default-user=s64",
      "userId": "10897937486958484914"
     },
     "user_tz": -180
    },
    "id": "5cm7iy1ir-DH",
    "scrolled": true
   },
   "outputs": [],
   "source": [
    "# Запустите этот код\n",
    "import numpy as np\n",
    "\n",
    "import scipy.linalg as sla\n",
    "\n",
    "import matplotlib.pyplot as plt\n",
    "%matplotlib inline"
   ]
  },
  {
   "cell_type": "markdown",
   "metadata": {
    "id": "V8NVWAhvr-DL"
   },
   "source": [
    "Теперь вы можете позвать, скажем, функцию `scipy.linalg.det()` с помощью кода `sla.det()`, а функцию `numpy.exp()` - с помощью кода `np.exp()`."
   ]
  },
  {
   "cell_type": "markdown",
   "metadata": {
    "id": "Pa6Hi2DFr-DM"
   },
   "source": [
    "**Основные объекты и операции линейной алгебры в NumPy и SciPy:**"
   ]
  },
  {
   "cell_type": "markdown",
   "metadata": {
    "id": "L4QhiVOOr-DN"
   },
   "source": [
    "Основной объект, с которым вам придётся работать и в этой, и в следующих лабораторных - это, безусловно, матрицы. В библиотеке `numpy` они представлены классом `numpy.ndarray`. Матрицу можно создать из двумерного (а на самом деле и не только двумерного) массива следующим образом:"
   ]
  },
  {
   "cell_type": "code",
   "execution_count": 6,
   "metadata": {
    "colab": {
     "base_uri": "https://localhost:8080/"
    },
    "executionInfo": {
     "elapsed": 22,
     "status": "ok",
     "timestamp": 1637484669121,
     "user": {
      "displayName": "Артем Парфенов",
      "photoUrl": "https://lh3.googleusercontent.com/a/default-user=s64",
      "userId": "10897937486958484914"
     },
     "user_tz": -180
    },
    "id": "TNI8AiJyr-DO",
    "outputId": "d8ceb17d-c49c-4f29-a122-b3d79c70d89f"
   },
   "outputs": [
    {
     "name": "stdout",
     "output_type": "stream",
     "text": [
      "[[1 2 3]\n",
      " [4 5 6]]\n",
      "(2, 3)\n"
     ]
    }
   ],
   "source": [
    "# Запустите этот код\n",
    "A = np.array([[1, 2, 3], [4, 5, 6]])\n",
    "\n",
    "print(A)\n",
    "print(A.shape) # пара (число строк, число столбцов)"
   ]
  },
  {
   "cell_type": "markdown",
   "metadata": {
    "id": "tzD9hz20r-DQ"
   },
   "source": [
    "Обратите внимание, что матрица заполняется *по строкам*.\n",
    "\n",
    "Есть и много других конструкторов матриц. Например, единичная матрица размера $n\\times n$ создаётся с помощью функции `numpy.eye(n)`. Со всем многообразием конструкторов можно ознакомиться [на этой странице](https://docs.scipy.org/doc/numpy-1.10.1/reference/routines.array-creation.html)."
   ]
  },
  {
   "cell_type": "markdown",
   "metadata": {
    "id": "dXBis6otr-DR"
   },
   "source": [
    "Зачастую бывает нужно получить доступ к подматрицам данной матрицы, и numpy предоставляет множество удобных средств, как это сделать (вообще данная процедура называется slicing):\n",
    "- элемент с номером `(i,j)`: `A[i,j]`\n",
    "- i-я строка матрицы: `A[i,:]`\n",
    "- j-й столбец матрицы: `A[:,j]`\n",
    "\n",
    "**Внимание!** Оба варианта, и `A[i,:]`, и `A[:,j]` дают не строку или столбец, а одномерный вектор. Если вы хотите получить вектор-строку или вектор-столбец соответственно, используйте вот такой синтаксис: `A[i:i+1,:]`, и `A[:,j:j+1]`\n",
    "- строки с нулевой по i-ю: `A[:i+1,:]`\n",
    "- столбцы с j-го по последний: `A[:,j:]`\n",
    "- строки с i-й по k-ю: `A[i:k,:]`\n",
    "\n",
    "В некоторых случаях нужно получить доступ к (прямоугольной) подматрице, элементы которой находятся на пересечении строк из списка `rows` и столбцов из списка `columns`. В этом случае `A[rows, columns]` даст не то, что вы ожидаете (можете попробовать это сделать сами и увидеть, что получится; только возьмите `rows` и `columns` одного размера). Справиться с этой задачей позволяет код `A[np.ix_(rows, columns)]`"
   ]
  },
  {
   "cell_type": "markdown",
   "metadata": {
    "id": "UBq_ml2yr-DS"
   },
   "source": [
    "*Умножение матриц* производится с помощью функции `np.dot()` либо оператора `@`. Есть три варианта написания: `A.dot(B)` и `np.dot(A, B)`, `A @ B`.\n",
    "\n",
    "Обычные знаки арифметических действий (`+`, `-`, `*`) зарезервированы для поэлементных операций. Например, `A * B` - это матрица, элементами которой являются произведения $A_{ij}B_{ij}$. Помимо этих есть и множество других поэлементных операций. Например, `numpy.exp(A)` - это матрица, элементами которой являются экспоненты элементов матрицы `A`."
   ]
  },
  {
   "cell_type": "markdown",
   "metadata": {
    "id": "fZk9Fcmar-DT"
   },
   "source": [
    "Чтобы получить матрицу, *транспонированную* к матрице `A`, напишите просто `A.T`. "
   ]
  },
  {
   "cell_type": "markdown",
   "metadata": {
    "id": "BklAT3MYr-DT"
   },
   "source": [
    "В некоторых случаях бывает нужно создавать *случайные матрицы*: например, при проведении экспериментов или для инициализации итеративных методов. Средства для этого предоставляет пакет [numpy.random](https://docs.scipy.org/doc/numpy/reference/routines.random.html). Так, `np.random.rand(m,n)` - это матрица $m\\times n$, элементы которой независимо выбраны из равномерного распределения на интервале `[0;1)` "
   ]
  },
  {
   "cell_type": "markdown",
   "metadata": {
    "id": "qEnErjp6r-DU"
   },
   "source": [
    "Для *решения систем линейных уравнений* в пакете `scipy.linalg` есть множество методов, рассмотрение которых выходит за пределы курса линейной алгебры. Мы вам пока предлагаем пользоваться функцией `scipy.linalg.solve`, основанной на методе Гаусса. Отметим, что `scipy.linalg.solve(A, B)` выдаёт решение уравнения $AX = B$ (или ошибку), где $B$ может быть как вектором, так и матрицей.\n",
    "\n",
    "Найти обратную матрицу для матрицы $A$ можно с помощью функции `sla.inv(A)`."
   ]
  },
  {
   "cell_type": "markdown",
   "metadata": {
    "id": "gKccN2XRr-DU"
   },
   "source": [
    "**Копирование сложных объектов в Python**"
   ]
  },
  {
   "cell_type": "markdown",
   "metadata": {
    "id": "hcYma3Ahr-DV"
   },
   "source": [
    "Когда вы делаете присваивание каких-то сложных объектов, как правило оно происходит по ссылке. Например, код\n",
    "```\n",
    "B = A\n",
    "B[0,0] = 10\n",
    "```\n",
    "приведёт к изменению матрицы `A`.\n",
    "\n",
    "Не попадайтесь в эту ловушку! Если вы хотите работать с копией как с независимой матрицей, используйте метод `copy()`:\n",
    "```\n",
    "B = A.copy()\n",
    "```"
   ]
  },
  {
   "cell_type": "markdown",
   "metadata": {
    "id": "skr3SVKir-DW"
   },
   "source": [
    "**Где искать помощь**"
   ]
  },
  {
   "cell_type": "markdown",
   "metadata": {
    "id": "ZwzIfvS_r-DW"
   },
   "source": [
    "Библиотеки `numpy` и `scipy` снабжены прекрасной документацией. Если у вас возникают вопросы о том, как работает та или иная функция (или даже как называется функция, выполняющая то, что вам нужно), вы почти всегда можете найти там ответы.\n",
    "\n",
    "[Ссылка на документацию пакета scipy.linalg](https://docs.scipy.org/doc/scipy-0.18.1/reference/linalg.html)\n",
    "\n",
    "Если у вас возникает какая-то ошибка и вы не можете понять, что вы делаете не так, то\n",
    "\n",
    "1.   В первую очередь попробуйте просто загуглить текст ошибки, наверняка в интернете кто-то уже сталкивался с такой ситуацией;\n",
    "2.   Поспрашивайте своих одногруппников, не было ли у них такой ошибки, и если была -- как они справлялись;\n",
    "3.   Попросите помощи у вашего учебного ассистента.\n",
    "\n",
    "Важно искать помощь именно в таком порядке! Если ни один из шагов выше не помог или вы столкнулись с ситуацией, в которой вам заведомо не поможет ни один из пунктов выше (например, в задании вас просят доказать заведомо ложное утверждение), тогда можете написать сюда: st-fedotov@yandex-team.ru (Станислав Федотов, выступал перед выдачей лабораторной), или сюда: [@johanDDC](https://t.me/johanDDC) (Ваня Пешехонов, ассистент курса).\n",
    "\n"
   ]
  },
  {
   "cell_type": "markdown",
   "metadata": {
    "id": "PggwvCWer-DW"
   },
   "source": [
    "**И всё-таки задание**"
   ]
  },
  {
   "cell_type": "markdown",
   "metadata": {
    "id": "jA4ZWChmr-DX"
   },
   "source": [
    "**Задание 1.1 [0.2 за каждый пункт]** В качестве первого задания мы попросим вас отыскать соответствующие функции в библиотеке и сделать следующее:\n",
    "\n",
    "- создайте нулевую матрицу $Z$ размера $3\\times4$;\n",
    "\n",
    "- создайте диагональную матрицу $5\\times5$ с диагональными элементами 1, 2, 3, 4 и 5;\n",
    "\n",
    "- найдите её след (не силою мысли, а с помощью библиотечных функций, конечно);\n",
    "\n",
    "- найдите обратную к ней матрицу;\n",
    "\n",
    "- сгенерируйте случайную матрицу $X$ размера $4\\times5$;\n",
    "\n",
    "- найдите определитель подматрицы матрицы $X$, расположенной на пересечении 2-й и 3-й строк и 1-го и 2-го столбцов; считаем, что строки и столбцы нумеруются с единицы (используйте slicing!). Такой определитель называется **минором** матрицы $X$;\n",
    "\n",
    "- найдите произведение $X^TX$.\n",
    "\n",
    "Пожалуйста, каждый пункт делайте в новом блоке и не забывайте распечатывать результаты."
   ]
  },
  {
   "cell_type": "code",
   "execution_count": 7,
   "metadata": {
    "colab": {
     "base_uri": "https://localhost:8080/"
    },
    "executionInfo": {
     "elapsed": 20,
     "status": "ok",
     "timestamp": 1637484669122,
     "user": {
      "displayName": "Артем Парфенов",
      "photoUrl": "https://lh3.googleusercontent.com/a/default-user=s64",
      "userId": "10897937486958484914"
     },
     "user_tz": -180
    },
    "id": "gmrs4RQCr-Db",
    "outputId": "27051a93-6283-4ca6-bdb2-9bfa6977758c",
    "scrolled": true
   },
   "outputs": [
    {
     "name": "stdout",
     "output_type": "stream",
     "text": [
      "[[0. 0. 0. 0.]\n",
      " [0. 0. 0. 0.]\n",
      " [0. 0. 0. 0.]]\n"
     ]
    }
   ],
   "source": [
    "null = np.zeros((3, 4))\n",
    "print(null)"
   ]
  },
  {
   "cell_type": "code",
   "execution_count": 8,
   "metadata": {
    "colab": {
     "base_uri": "https://localhost:8080/"
    },
    "executionInfo": {
     "elapsed": 18,
     "status": "ok",
     "timestamp": 1637484669123,
     "user": {
      "displayName": "Артем Парфенов",
      "photoUrl": "https://lh3.googleusercontent.com/a/default-user=s64",
      "userId": "10897937486958484914"
     },
     "user_tz": -180
    },
    "id": "-iaozmInlcRD",
    "outputId": "d877fb56-b2e2-473c-9e33-854232dbcbbf"
   },
   "outputs": [
    {
     "name": "stdout",
     "output_type": "stream",
     "text": [
      "[[1 0 0 0 0]\n",
      " [0 2 0 0 0]\n",
      " [0 0 3 0 0]\n",
      " [0 0 0 4 0]\n",
      " [0 0 0 0 5]]\n"
     ]
    }
   ],
   "source": [
    "\n",
    "diag = np.diag([1, 2, 3, 4, 5])\n",
    "\n",
    "print(diag)"
   ]
  },
  {
   "cell_type": "code",
   "execution_count": 9,
   "metadata": {
    "colab": {
     "base_uri": "https://localhost:8080/"
    },
    "executionInfo": {
     "elapsed": 17,
     "status": "ok",
     "timestamp": 1637484669124,
     "user": {
      "displayName": "Артем Парфенов",
      "photoUrl": "https://lh3.googleusercontent.com/a/default-user=s64",
      "userId": "10897937486958484914"
     },
     "user_tz": -180
    },
    "id": "pzR2_Pd8ma85",
    "outputId": "e3a7bce3-3e7e-40e7-d5c5-428ac91512d7"
   },
   "outputs": [
    {
     "name": "stdout",
     "output_type": "stream",
     "text": [
      "15\n"
     ]
    }
   ],
   "source": [
    "print(diag.trace())"
   ]
  },
  {
   "cell_type": "code",
   "execution_count": 10,
   "metadata": {
    "colab": {
     "base_uri": "https://localhost:8080/"
    },
    "executionInfo": {
     "elapsed": 17,
     "status": "ok",
     "timestamp": 1637484669126,
     "user": {
      "displayName": "Артем Парфенов",
      "photoUrl": "https://lh3.googleusercontent.com/a/default-user=s64",
      "userId": "10897937486958484914"
     },
     "user_tz": -180
    },
    "id": "AX_lgfi0nUQx",
    "outputId": "23dca697-8d3f-420e-d583-03335474e4c0"
   },
   "outputs": [
    {
     "name": "stdout",
     "output_type": "stream",
     "text": [
      "[[ 1.          0.         -0.          0.         -0.        ]\n",
      " [ 0.          0.5        -0.          0.         -0.        ]\n",
      " [ 0.          0.          0.33333333  0.         -0.        ]\n",
      " [ 0.          0.          0.          0.25       -0.        ]\n",
      " [ 0.          0.          0.          0.          0.2       ]]\n"
     ]
    }
   ],
   "source": [
    "print(sla.inv(diag))"
   ]
  },
  {
   "cell_type": "code",
   "execution_count": 11,
   "metadata": {
    "colab": {
     "base_uri": "https://localhost:8080/"
    },
    "executionInfo": {
     "elapsed": 837,
     "status": "ok",
     "timestamp": 1637484669948,
     "user": {
      "displayName": "Артем Парфенов",
      "photoUrl": "https://lh3.googleusercontent.com/a/default-user=s64",
      "userId": "10897937486958484914"
     },
     "user_tz": -180
    },
    "id": "ZcvsCy_pn4NF",
    "outputId": "3ab85647-cb7a-40ec-9d6f-18b621df7c43"
   },
   "outputs": [
    {
     "name": "stdout",
     "output_type": "stream",
     "text": [
      "[[0.59297417 0.96871467 0.31847275 0.11892697 0.91125794]\n",
      " [0.89521064 0.39498761 0.48555938 0.10414372 0.84753328]\n",
      " [0.31962549 0.47683604 0.90154253 0.04138907 0.80481359]\n",
      " [0.21371613 0.12471151 0.34028683 0.51303325 0.34722111]]\n"
     ]
    }
   ],
   "source": [
    "x = np.random.rand(4, 5)\n",
    "\n",
    "print(x)"
   ]
  },
  {
   "cell_type": "code",
   "execution_count": 12,
   "metadata": {
    "colab": {
     "base_uri": "https://localhost:8080/"
    },
    "executionInfo": {
     "elapsed": 12,
     "status": "ok",
     "timestamp": 1637484669949,
     "user": {
      "displayName": "Артем Парфенов",
      "photoUrl": "https://lh3.googleusercontent.com/a/default-user=s64",
      "userId": "10897937486958484914"
     },
     "user_tz": -180
    },
    "id": "i-r8-Vv8n4eZ",
    "outputId": "d48a643b-aa34-40f7-93d2-ab6b807971d0"
   },
   "outputs": [
    {
     "name": "stdout",
     "output_type": "stream",
     "text": [
      "0.049828295770422616\n"
     ]
    }
   ],
   "source": [
    "rows = [2, 3]\n",
    "columns = [1, 2]\n",
    "\n",
    "y = x[np.ix_(rows, columns)]\n",
    "\n",
    "print(sla.det(y))"
   ]
  },
  {
   "cell_type": "code",
   "execution_count": 13,
   "metadata": {
    "colab": {
     "base_uri": "https://localhost:8080/"
    },
    "executionInfo": {
     "elapsed": 10,
     "status": "ok",
     "timestamp": 1637484669950,
     "user": {
      "displayName": "Артем Парфенов",
      "photoUrl": "https://lh3.googleusercontent.com/a/default-user=s64",
      "userId": "10897937486958484914"
     },
     "user_tz": -180
    },
    "id": "Ydqno-x4o7lS",
    "outputId": "86e301ef-96ec-4696-bfe8-91bc50e828b4"
   },
   "outputs": [
    {
     "name": "stdout",
     "output_type": "stream",
     "text": [
      "[[2.23598602 1.85281143 1.6768795  0.73333158]\n",
      " [1.85281143 1.92234379 1.59864561 0.75352056]\n",
      " [1.6768795  1.59864561 1.79174997 0.73524135]\n",
      " [0.73333158 0.75352056 0.73524135 0.56078829]]\n"
     ]
    }
   ],
   "source": [
    "print(x.dot(x.T))"
   ]
  },
  {
   "cell_type": "markdown",
   "metadata": {
    "id": "Dq9CP3Tvr-Dc"
   },
   "source": [
    "## Часть 2. Время\n",
    "\n",
    "Питон мотивирует пользоваться библиотечными функциями, когда они доступны, а не писать собственные. Библиотечные функции основаны на современных алгоритмах, обычно пишутся на более эффективных языках, таких как C++ или Fortran, а кроме того, оптимизированы для работы на многопроцессорных устройствах, так что обогнать эти решения просто так вы не сможете.\n",
    "\n",
    "**Задание 2.1 [0.75 баллов]**\n",
    "Мы предлагаем вам убедиться в этом самим. Напишите функцию `my_det`, которая вычисляла бы определитель матрицы с помощью элементарных преобразований над строками. Функция должна выкидывать `ValueError` в случаях, если матрица не является квадратной."
   ]
  },
  {
   "cell_type": "code",
   "execution_count": 16,
   "metadata": {
    "colab": {
     "base_uri": "https://localhost:8080/"
    },
    "executionInfo": {
     "elapsed": 251,
     "status": "ok",
     "timestamp": 1637484679338,
     "user": {
      "displayName": "Артем Парфенов",
      "photoUrl": "https://lh3.googleusercontent.com/a/default-user=s64",
      "userId": "10897937486958484914"
     },
     "user_tz": -180
    },
    "id": "g943MUT2r-Dd",
    "outputId": "fb7463e2-6fe7-4893-cc75-fdaa041e2018"
   },
   "outputs": [
    {
     "name": "stdout",
     "output_type": "stream",
     "text": [
      "-1\n"
     ]
    }
   ],
   "source": [
    "def mx(m, col, sign):\n",
    "    ''' поднимаем строку с главным элементом'''\n",
    "    mx_el = m[col][col]\n",
    "    mx_r = col\n",
    "    m1 = m.copy()\n",
    "    for i in range(col + 1, len(m)):\n",
    "        if abs(m[i][col]) > abs(mx_el):\n",
    "            mx_el = m[i][col]\n",
    "            mx_r = i\n",
    "    if mx_r != col:\n",
    "        m[col], m[mx_r] = m1[mx_r], m1[col]\n",
    "        sign *= (-1)\n",
    "    return (m, sign)\n",
    "\n",
    "def my_det(X):\n",
    "    '''\n",
    "    Parameters\n",
    "    ----------\n",
    "    X : array_like\n",
    "    \n",
    "    Returns\n",
    "    -------\n",
    "    det : float\n",
    "        Determinant of `a`.\n",
    "    '''\n",
    "    m = X.copy()\n",
    "    sign = 1\n",
    "    n = m.shape[0]\n",
    "    p = m.shape[1]\n",
    "    if p != n:\n",
    "      raise ValueError\n",
    "    else:\n",
    "      for k in range(n - 1):\n",
    "        tmp = mx(m, k, sign)\n",
    "        m = tmp[0]\n",
    "        sign = tmp[1]\n",
    "        for i in range(k + 1, n):\n",
    "          m1 = m.copy()\n",
    "          devisor = m1[i][k] / m1[k][k]\n",
    "          m1[i][-1] -= devisor * m1[k][-1]\n",
    "          for j in range(k, n):\n",
    "            m[i][j] -= devisor * m[k][j]\n",
    "    det = sign\n",
    "    for i in range(n):\n",
    "      det *= m[i][i]\n",
    "    return det\n",
    "print(my_det(X))"
   ]
  },
  {
   "cell_type": "markdown",
   "metadata": {
    "id": "yH3RBFebr-Dd"
   },
   "source": [
    "Простая проверка:"
   ]
  },
  {
   "cell_type": "code",
   "execution_count": 15,
   "metadata": {
    "colab": {
     "base_uri": "https://localhost:8080/"
    },
    "executionInfo": {
     "elapsed": 247,
     "status": "ok",
     "timestamp": 1637484677264,
     "user": {
      "displayName": "Артем Парфенов",
      "photoUrl": "https://lh3.googleusercontent.com/a/default-user=s64",
      "userId": "10897937486958484914"
     },
     "user_tz": -180
    },
    "id": "zZkvjyIMr-De",
    "outputId": "0722fd1d-68d6-4b9d-e2ff-81c4ef271248"
   },
   "outputs": [
    {
     "name": "stdout",
     "output_type": "stream",
     "text": [
      "-1.0\n"
     ]
    }
   ],
   "source": [
    "# Запустите этот блок кода\n",
    "X = np.array([[0,0,1], [0,1,0], [1,0,0]])\n",
    "print(np.linalg.det(X))"
   ]
  },
  {
   "cell_type": "markdown",
   "metadata": {
    "id": "1s1r8y0lr-Df"
   },
   "source": [
    "На случай, если нам просто повезло с этой матрицей, имеет смысл написать чуть более хитрые тесты. Мы сгенерируем несколько случайных матриц $8\\times8$ с помощью функции `numpy.random.rand` и сравним ответ, выдаваемый нашей функцией, с настоящим определителем (результатом работы библиотечной функции `scipy.linalg.det`):"
   ]
  },
  {
   "cell_type": "code",
   "execution_count": 17,
   "metadata": {
    "executionInfo": {
     "elapsed": 249,
     "status": "ok",
     "timestamp": 1637484682202,
     "user": {
      "displayName": "Артем Парфенов",
      "photoUrl": "https://lh3.googleusercontent.com/a/default-user=s64",
      "userId": "10897937486958484914"
     },
     "user_tz": -180
    },
    "id": "SYbzit9Sr-Df"
   },
   "outputs": [],
   "source": [
    "# Запустите этот блок кода\n",
    "for _ in range(10):\n",
    "    X = np.random.rand(8, 8)\n",
    "    if np.abs(my_det(X) - sla.det(X)) > 1e-6:\n",
    "        print('FAILED')"
   ]
  },
  {
   "cell_type": "markdown",
   "metadata": {
    "id": "4SYA688Er-Dg"
   },
   "source": [
    "Если вы ни разу не получили `FAILED`, то ваша функция работает правильно."
   ]
  },
  {
   "cell_type": "markdown",
   "metadata": {
    "id": "Lw3SUmFcr-Dg"
   },
   "source": [
    "Теперь давайте сравним скорость работы вашей функции и библиотечной функции `scipy.linalg.det`. В Питоне есть несколько способов измерения времени; мы воспользуемся декоратором `%timeit`. Будучи написан перед функцией, он запускает её некоторое количество раз, выбирает три случайных запуска и возвращает длительность самого быстрого из них. Модификатор `-o` между декоратором и функцией позволяет сохранять результаты работы декоратора в переменную.\n",
    "\n",
    "Приготовьтесь, что следующий блок может работать сравнительно долго."
   ]
  },
  {
   "cell_type": "code",
   "execution_count": 18,
   "metadata": {
    "colab": {
     "base_uri": "https://localhost:8080/"
    },
    "id": "J8MHVMDTr-Dh",
    "outputId": "47a289de-438c-4cf5-d51d-94ebd6da9492"
   },
   "outputs": [
    {
     "name": "stdout",
     "output_type": "stream",
     "text": [
      "7.61 µs ± 299 ns per loop (mean ± std. dev. of 7 runs, 100000 loops each)\n",
      "197 µs ± 1.73 µs per loop (mean ± std. dev. of 7 runs, 1000 loops each)\n",
      "152 µs ± 32.6 µs per loop (mean ± std. dev. of 7 runs, 10000 loops each)\n",
      "140 ms ± 5.08 ms per loop (mean ± std. dev. of 7 runs, 10 loops each)\n",
      "7.81 ms ± 593 µs per loop (mean ± std. dev. of 7 runs, 100 loops each)\n"
     ]
    },
    {
     "name": "stderr",
     "output_type": "stream",
     "text": [
      "<ipython-input-16-e444a74f745a>:45: RuntimeWarning: overflow encountered in double_scalars\n",
      "  det *= m[i][i]\n"
     ]
    },
    {
     "name": "stdout",
     "output_type": "stream",
     "text": [
      "5min 30s ± 33.4 s per loop (mean ± std. dev. of 7 runs, 1 loop each)\n"
     ]
    },
    {
     "data": {
      "text/plain": [
       "<matplotlib.legend.Legend at 0x7f472c0d7640>"
      ]
     },
     "execution_count": 18,
     "metadata": {},
     "output_type": "execute_result"
    },
    {
     "data": {
      "image/png": "[encoded data removed]",
      "text/plain": [
       "<Figure size 432x288 with 1 Axes>"
      ]
     },
     "metadata": {
      "needs_background": "light"
     },
     "output_type": "display_data"
    }
   ],
   "source": [
    "# Запустите этот блок кода\n",
    "lib_times = []\n",
    "my_times = []\n",
    "dimensions = [10, 100, 1000]\n",
    "for dim in dimensions:\n",
    "    A = np.random.rand(dim, dim)\n",
    "    res_lib = %timeit -o sla.det(A)\n",
    "    lib_times.append(res_lib.best)\n",
    "    res_my = %timeit -o my_det(A)\n",
    "    my_times.append(res_my.best)    \n",
    "\n",
    "plt.plot(dimensions, lib_times, color='blue', label='Library function')\n",
    "plt.plot(dimensions, my_times, color='red', label='My function')\n",
    "plt.title('My function vs library function, log y scale')\n",
    "plt.ylabel('Time')\n",
    "plt.xlabel('Matrix dimension')\n",
    "plt.legend()"
   ]
  },
  {
   "cell_type": "markdown",
   "metadata": {
    "id": "3snj6Ssyr-Dh"
   },
   "source": [
    "У вас должны были получиться графики, показывающие, как растёт с ростом размерности матрицы время вычисления определителя. Поскольку они вышли не больно-то красивыми, мы нарисуем их в *логарифмическом масштабе* по оси у:"
   ]
  },
  {
   "cell_type": "code",
   "execution_count": 19,
   "metadata": {
    "colab": {
     "base_uri": "https://localhost:8080/",
     "height": 235
    },
    "executionInfo": {
     "elapsed": 283,
     "status": "error",
     "timestamp": 1637484592001,
     "user": {
      "displayName": "Артем Парфенов",
      "photoUrl": "https://lh3.googleusercontent.com/a/default-user=s64",
      "userId": "10897937486958484914"
     },
     "user_tz": -180
    },
    "id": "DvHEs5bpr-Di",
    "outputId": "56809864-8190-43ee-c2fc-ad970ae1c7d0"
   },
   "outputs": [
    {
     "data": {
      "text/plain": [
       "<matplotlib.legend.Legend at 0x7f472c09ba30>"
      ]
     },
     "execution_count": 19,
     "metadata": {},
     "output_type": "execute_result"
    },
    {
     "data": {
      "image/png": "[encoded data removed]",
      "text/plain": [
       "<Figure size 432x288 with 1 Axes>"
      ]
     },
     "metadata": {
      "needs_background": "light"
     },
     "output_type": "display_data"
    }
   ],
   "source": [
    "# Запустите этот блок кода\n",
    "plt.semilogy(dimensions, lib_times, color='blue', label='Library function')\n",
    "plt.semilogy(dimensions, my_times, color='red', label='My function')\n",
    "plt.title('My function vs library function, log y scale')\n",
    "plt.ylabel('Time')\n",
    "plt.xlabel('Matrix dimension')\n",
    "plt.legend()"
   ]
  },
  {
   "cell_type": "markdown",
   "metadata": {
    "id": "1hNKxIy_r-Di"
   },
   "source": [
    "Вы можете убедиться, что библиотечная функция работает *гораздо* быстрее."
   ]
  },
  {
   "cell_type": "markdown",
   "metadata": {
    "id": "jpswHTx4r-Di"
   },
   "source": [
    "## Часть 3. Точность\n",
    "\n",
    "Наверняка вы уже что-то знаете про floating point arithmetics и связанные с этим трудности и понимаете, что на компьютере вычисления с вещественными числами производятся лишь с ограниченной точностью. "
   ]
  },
  {
   "cell_type": "markdown",
   "metadata": {
    "id": "sbHBREf1r-Dj"
   },
   "source": [
    "**Задание 3.1 [0.5 балла]** В качестве первого примера, показывающего различие между длинной арифметикой целых чисел и floating point arithmetics, предлагаем вам перемножить две пары матриц:\n",
    "\n",
    "$$\n",
    "\\begin{pmatrix}\n",
    "1 & 0\\\\\n",
    "10^{20} & 1\n",
    "\\end{pmatrix}\n",
    "\\cdot\n",
    "\\begin{pmatrix}\n",
    "10^{-20} & 1\\\\\n",
    "0 & 1 - 10^{20}\n",
    "\\end{pmatrix}\n",
    "$$\n",
    "и\n",
    "$$\n",
    "\\begin{pmatrix}\n",
    "1. & 0.\\\\\n",
    "10.^{20} & 1.\n",
    "\\end{pmatrix}\n",
    "\\cdot\n",
    "\\begin{pmatrix}\n",
    "10.^{-20} & 1.\\\\\n",
    "0. & 1. - 10.^{20}\n",
    "\\end{pmatrix}\n",
    "$$\n",
    "Во втором случае мы специально указали Питону (поставив везде десятичные точки), что хотим работать не с целыми числами, а с числами с плавающей точкой. Посмотрим, получатся ли одинаковые ответы:"
   ]
  },
  {
   "cell_type": "code",
   "execution_count": 20,
   "metadata": {
    "id": "DrPBRd5xr-Dj"
   },
   "outputs": [
    {
     "name": "stdout",
     "output_type": "stream",
     "text": [
      "[[1e-20 1]\n",
      " [1.0 1]]\n",
      "[[1.e-20 1.e+00]\n",
      " [1.e+00 0.e+00]]\n"
     ]
    }
   ],
   "source": [
    "# Your code here\n",
    "\n",
    "a = np.array([[1, 0], [int(1e20), 1]])\n",
    "b = np.array([[1 / int(1e20), 1], [0, 1 - int(1e20)]])\n",
    "\n",
    "c = np.array([[1.0, 0.0], [1e20, 1.0]])\n",
    "d = np.array([[1e-20, 1.0], [0.0, 1 - 1e20]])\n",
    "\n",
    "print(a.dot(b))\n",
    "print(c.dot(d))"
   ]
  },
  {
   "cell_type": "markdown",
   "metadata": {
    "id": "Pt3aLW1Or-Dk"
   },
   "source": [
    "И какой из них правильный?\n",
    "\n",
    "---\n",
    "**Первый в выводе(проверяется ручками)**"
   ]
  },
  {
   "cell_type": "markdown",
   "metadata": {
    "id": "jiY-QrKPr-Dk"
   },
   "source": [
    "**Задание 3.2 [0.75 балла]** Впрочем, и с целыми числами тоже не всегда всё хорошо. Напишите функцию, генерирующую *матрицу Паскаля* заданной размерности $n$, то есть матрицу $P$, в которой $P_{ij} = C_{i+j}^i$. В этом задании нельзя пользоваться библиотечной функцией `scipy.linalg.pascal` или её аналогами из других библиотек. Обратите внимание, что использование факториалов крайне нежелательно, так как быстро приведёт к переполнению.\n",
    "\n",
    "В этом задании вы можете использовать цикл ``for``."
   ]
  },
  {
   "cell_type": "code",
   "execution_count": 21,
   "metadata": {
    "id": "rDU_5JgZr-Dl"
   },
   "outputs": [
    {
     "data": {
      "text/plain": [
       "array([[ 1.,  1.,  1.,  1.,  1.],\n",
       "       [ 1.,  2.,  3.,  4.,  5.],\n",
       "       [ 1.,  3.,  6., 10., 15.],\n",
       "       [ 1.,  4., 10., 20., 35.],\n",
       "       [ 1.,  5., 15., 35., 70.]])"
      ]
     },
     "execution_count": 21,
     "metadata": {},
     "output_type": "execute_result"
    }
   ],
   "source": [
    "def my_pascal(dim):\n",
    "    '''\n",
    "    Мы создали для вас матрицу из нулей размера dim x dim,\n",
    "    но вы можете ей не пользоваться, если не хотите\n",
    "    '''\n",
    "    P = np.zeros((dim, dim))\n",
    "    for i in range(dim):\n",
    "      P[0][i] = 1\n",
    "      P[i][0] = 1\n",
    "    for i in range(1, dim):\n",
    "      for j in range(1, dim):\n",
    "        P[i][j] = P[i - 1][j] + P[i][j - 1]\n",
    "    # Your code here\n",
    "    \n",
    "    return P\n",
    "my_pascal(5)"
   ]
  },
  {
   "cell_type": "markdown",
   "metadata": {
    "id": "PcK88FAmr-Dl"
   },
   "source": [
    "Чему равен её определитель? Строго поясните свой ответ.\n",
    "\n",
    "----\n",
    "**Ваше решение**\n",
    "с помощью элементарных преобразований, вычитая строки можно добиться того, что наша матрица паскаля станет единичной того же размера, из чего следует, что ее определтель будет равен единице. "
   ]
  },
  {
   "cell_type": "markdown",
   "metadata": {
    "id": "9FtlxI5xr-Dl"
   },
   "source": [
    "А теперь вычислите определитель матрицы Паскаля $30\\times30$ с помощью библиотечной функции `scipy.linalg.det`:"
   ]
  },
  {
   "cell_type": "code",
   "execution_count": 22,
   "metadata": {
    "id": "LF-9p43cr-Dm"
   },
   "outputs": [
    {
     "data": {
      "text/plain": [
       "-3.400444993542751e+51"
      ]
     },
     "execution_count": 22,
     "metadata": {},
     "output_type": "execute_result"
    }
   ],
   "source": [
    "# Your code here\n",
    "p = sla.pascal(30)\n",
    "sla.det(p)"
   ]
  },
  {
   "cell_type": "markdown",
   "metadata": {
    "id": "XkP5Lz39r-Dn"
   },
   "source": [
    "Разница заметна невооружённым взглядом!"
   ]
  },
  {
   "cell_type": "markdown",
   "metadata": {
    "id": "o5FGEdeLRtyw"
   },
   "source": [
    "Как вы помните из лекций, квадратная матрица называется вырожденной, если её определитель равен нулю. На практике часто приходится иметь дело с матрицами, \"близкими\" к вырожденным. Вырожденные и близкие к вырожденным матрицы обладают мерзким свойством численной неустойчивости. Что такое численная неустойчивость? Скажем, пусть мы решаем систему $Ax = b$, и пусть $\\dot x$ -- её частное решение. Теперь предположим, что правая часть системы немного испортилась (например, если правая часть -- это выход какого-то алгоритма, то тогда она может испортиться из-за неточных вычислений в этом алгоритме), и теперь мы решаем систему $Ax = b + \\Delta b$. Если элементы вектора $\\Delta b$ невелики по модулю, нам бы очень хотелось, чтобы и решение новой системы не сильно отличалось от решения исходной системы. Именно это мы и будем называть численной устойчивостью.\n",
    "\n",
    "**Задание 3.3 [0.15 балла]** Дана система\n",
    "$$\n",
    "\\begin{cases}\n",
    "x_1 + 1000x_2 = 2004\\\\\n",
    "100x_1 + 100001x_2 = 200402\n",
    "\\end{cases}\n",
    "$$\n",
    "Найдите решение этой системы (можно устно). Найдите определитель её матрицы коэффициентов."
   ]
  },
  {
   "cell_type": "code",
   "execution_count": 25,
   "metadata": {
    "id": "5gTOZfe8Z4u9"
   },
   "outputs": [
    {
     "name": "stdout",
     "output_type": "stream",
     "text": [
      "[8.]\n",
      "1.0000000000047748\n"
     ]
    }
   ],
   "source": [
    "# Your code here\n",
    "A = np.array([[1, 1000], [100, 100001]])\n",
    "B = np.array([[2004], [200402]])\n",
    "c = sla.solve(A, B)\n",
    "print(c[0] * c[1])\n",
    "print(sla.det(A))"
   ]
  },
  {
   "cell_type": "markdown",
   "metadata": {
    "id": "EoBbwD-XZ5AD"
   },
   "source": [
    "Теперь немного испортим правую часть этой системы, пусть теперь она имеет вид\n",
    "$$\n",
    "\\begin{cases}\n",
    "x_1 + 1000x_2 = 2004.01\\\\\n",
    "100x_1 + 100001x_2 = 200402\n",
    "\\end{cases}\n",
    "$$\n",
    "\n",
    "Найдите решение системы с испорченной правой частью. Сравните решения исходной и новой систем. Что вы можете сказать?"
   ]
  },
  {
   "cell_type": "code",
   "execution_count": 26,
   "metadata": {
    "id": "UeWfOQNmaXC0"
   },
   "outputs": [
    {
     "name": "stdout",
     "output_type": "stream",
     "text": [
      "[1004.01]\n",
      "1.0000000000047748\n"
     ]
    }
   ],
   "source": [
    "# Your code here\n",
    "A = np.array([[1, 1000], [100, 100001]])\n",
    "B = np.array([[2004.01], [200402]])\n",
    "c = sla.solve(A, B)\n",
    "print(c[0] * c[1])\n",
    "print(sla.det(A))"
   ]
  },
  {
   "cell_type": "markdown",
   "metadata": {
    "id": "_ER7VPPFsr5f"
   },
   "source": [
    "Оказывается, что значение определителя довольно плохо измеряет степень отклонения данной матрицы от вырожденной. Хорошей метрикой в этом плане является число обусловленности матрицы.\n",
    "\n",
    "**Определение**. Пусть $A$ -- квадратная матрица порядка $n$. Числом обусловленности матрицы $A$ назовём число $\\mathrm{cond}(A)$, определяемое по формуле\n",
    "$$\n",
    "\\mathrm{cond}(A) = \\sqrt{\\mathrm{tr}(A^TA)\\mathrm{tr}((A^{-1})^TA^{-1})}\n",
    "$$\n",
    "Если матрица вырожденна, то $\\mathrm{cond}(A)$ положим равным бесконечности.\n",
    "\n",
    "Как можно догадаться из определения, матрица тем ближе к вырожденной, чем больше её число обусловленности, ведь у вырожденной матрицы это число равно бесконечности!"
   ]
  },
  {
   "cell_type": "markdown",
   "metadata": {
    "id": "ginE-Q5VMoh9"
   },
   "source": [
    "**Задание 3.4 [0.2 баллов]** Напишите функцию, которая для заданной матрицы $A$ возвращает её число обусловленности. Функция должна выкидывать `ValueError` в случаях, если матрица не является квадратной."
   ]
  },
  {
   "cell_type": "code",
   "execution_count": 30,
   "metadata": {
    "id": "DJjq1Y5eNOgP"
   },
   "outputs": [],
   "source": [
    "def my_cond(A):\n",
    "    '''\n",
    "    Parameters\n",
    "    ----------\n",
    "    A : array_like\n",
    "    \n",
    "    Returns\n",
    "    -------\n",
    "    cond : float\n",
    "          Condition number of A.\n",
    "    '''\n",
    "    \n",
    "    # Your code here\n",
    "    \n",
    "    n, m = A.shape\n",
    "\n",
    "    from math import sqrt\n",
    "\n",
    "    if n != m:\n",
    "      raise ValueError\n",
    "    else:\n",
    "      x = A.T * A\n",
    "      if sla.det(A) == 0:\n",
    "        return 1e35\n",
    "      y = sla.inv(A).T * sla.inv(A)\n",
    "      cond = sqrt(np.trace(x) * np.trace(y))\n",
    "    return cond\n"
   ]
  },
  {
   "cell_type": "markdown",
   "metadata": {
    "id": "fCBQSE3COLhb"
   },
   "source": [
    "Посчитайте число обусловленности матрицы из задания 3.3."
   ]
  },
  {
   "cell_type": "code",
   "execution_count": 31,
   "metadata": {
    "id": "IJY6GlkJOZH-"
   },
   "outputs": [
    {
     "name": "stdout",
     "output_type": "stream",
     "text": [
      "10000200002.009094\n"
     ]
    }
   ],
   "source": [
    "# Your code here\n",
    "A = np.array([[1, 1000], [100, 100001]])\n",
    "print(my_cond(A))"
   ]
  },
  {
   "cell_type": "markdown",
   "metadata": {
    "id": "ExnPX7hgOXUK"
   },
   "source": [
    "Постройте график зависимости числа обусловленности матрицы Паскаля от размера $n \\in [5, 30]$."
   ]
  },
  {
   "cell_type": "code",
   "execution_count": 32,
   "metadata": {
    "id": "oRJA9WZfVMZa"
   },
   "outputs": [
    {
     "data": {
      "text/plain": [
       "<matplotlib.legend.Legend at 0x7f472c8c4340>"
      ]
     },
     "execution_count": 32,
     "metadata": {},
     "output_type": "execute_result"
    },
    {
     "data": {
      "image/png": "[encoded data removed]",
      "text/plain": [
       "<Figure size 432x288 with 1 Axes>"
      ]
     },
     "metadata": {
      "needs_background": "light"
     },
     "output_type": "display_data"
    }
   ],
   "source": [
    "# Your code here\n",
    "arr_res = []\n",
    "dimensions = [x for x in range(5, 31)]\n",
    "for dim in dimensions:\n",
    "    A = my_pascal(dim)\n",
    "    res = my_cond(A) \n",
    "    arr_res.append(res)    \n",
    "\n",
    "plt.plot(dimensions, arr_res, color='blue', label='Число обусловленности')\n",
    "plt.title('')\n",
    "plt.ylabel('Число обусловленности')\n",
    "plt.xlabel('Порядок матрицы')\n",
    "plt.legend()"
   ]
  },
  {
   "cell_type": "code",
   "execution_count": null,
   "metadata": {},
   "outputs": [],
   "source": []
  },
  {
   "cell_type": "markdown",
   "metadata": {
    "id": "NaIWOuZRf1JM"
   },
   "source": [
    "Как видите, посчитанные выше числа обусловленности весьма велики, что вполне согласуется с численными эффектами, которые вы наблюдали ранее при работе с соответствующими матрицами."
   ]
  },
  {
   "cell_type": "markdown",
   "metadata": {
    "id": "P-Lw8ufLr-Dn"
   },
   "source": [
    "## Часть 4. Матричные вычисления"
   ]
  },
  {
   "cell_type": "markdown",
   "metadata": {
    "id": "vhYgy7k_r-Do"
   },
   "source": [
    "Вы уже видели, что использования циклов (и самописных вычислений в целом) в Питоне лучше по возможности избегать, и важно уметь находить способы делать всё библиотечными средствами.\n",
    "\n",
    "В качестве примера рассмотрим две задачи:\n",
    "\n",
    "**1.** Предположим, нужно вычислить суммы элементов в каждой строке матрицы `A`. Ясно, что можно написать простую функцию с двумя циклами, которая это посчитает, но так лучше не делать. Правильный способ такой:\n",
    "```\n",
    "A.sum(axis=1)\n",
    "```\n",
    "Параметр `axis=1` означает, что суммы берутся по строкам. Если вы хотите просуммировать по столбцам, укажите `axis=0`. Если вообще пропустить параметр `axis` (вызвать `A.sum()`), то функция вернёт сумму *всех* элементов матрицы.\n",
    "\n",
    "**2.** Теперь допустим, что нам нужно каждый столбец матрицы `A` умножить на некоторое число. Более точно, пусть у нас есть (одномерный) вектор `w = np.array([w_1,...,w_n])`, и мы должны `i`-й столбец `A` умножить на число `w_i`. Опять же, это можно сделать в пару циклов, но лучше использовать операцию поэлементного умножения:\n",
    "```\n",
    "A * w.reshape((1,n))\n",
    "```\n",
    "Оператор `reshape` нужен для того, чтобы из одномерного вектора сделать вектор-строку.\n",
    "\n",
    "Аналогично если на числа `w_1,...,w_n` умножаются *строки* матрицы, нужно превратить `w` в вектор-столбец:\n",
    "```\n",
    "A * w.reshape((n,1))\n",
    "```"
   ]
  },
  {
   "cell_type": "markdown",
   "metadata": {
    "id": "Hat1t__0r-Do"
   },
   "source": [
    "Дальше вам будет предложено попрактиковаться в матричных вычислениях. В следующих трёх заданиях нельзя пользоваться циклами, а также конструкциями `map` и `reduce` и им подобными; вместо этого постарайтесь свести всё к матричным операциям из `numpy` (но, опять же, не `np.vectorize` или чему-то подобному). Чтобы убедиться, что получилось именно то, что нужно, пишите собственные тесты со случайными матрицами."
   ]
  },
  {
   "cell_type": "markdown",
   "metadata": {
    "id": "kMJB7H_Rr-Dp"
   },
   "source": [
    "**Задание 4.1 [0.75 балла]** Напишите функцию `prod_and_sq_sum(A)`, вычисляющую произведение диагональных элементов, и сумму квадратов диагональных элементов квадратной матрицы `A`."
   ]
  },
  {
   "cell_type": "code",
   "execution_count": 33,
   "metadata": {
    "id": "_y-KXozGr-Dp"
   },
   "outputs": [],
   "source": [
    "# Your code here\n",
    "def prod(A):\n",
    "  return A.diagonal().prod()\n",
    "\n",
    "def stupid_check(A):\n",
    "  x = 1\n",
    "  for i in range(A.shape[0]):\n",
    "    x *= A[i][i]\n",
    "  return x\n",
    "\n",
    "for _ in range(10):\n",
    "    X = np.random.rand(8, 8)\n",
    "    if np.abs(prod(X) - stupid_check(X)) > 1e-6:\n",
    "        print('FAILED')"
   ]
  },
  {
   "cell_type": "code",
   "execution_count": 34,
   "metadata": {},
   "outputs": [],
   "source": [
    "def sq_sum(A):\n",
    "  return sum(A.diagonal() ** 2)\n",
    "\n",
    "def stupid_check(A):\n",
    "  x = 0\n",
    "  for i in range(A.shape[0]):\n",
    "    x += (A[i][i] ** 2)\n",
    "  return x\n",
    "\n",
    "for _ in range(10):\n",
    "    X = np.random.rand(8, 8)\n",
    "    if np.abs(sq_sum(X) - stupid_check(X)) > 1e-6:\n",
    "        print('FAILED')"
   ]
  },
  {
   "cell_type": "markdown",
   "metadata": {
    "id": "BmTUHs8Ar-Dp"
   },
   "source": [
    "**Задание 4.2 [0.75 балла]** Для матриц `A` и `B` размера $m\\times n$ обозначим через $a_1,\\ldots,a_n$ и $b_1,\\ldots,b_n$ соответственно их столбцы, $\\lambda_1, \\ldots, \\lambda_n$ --- некоторые числа. Напишите функцию `f(A, B, lmbd, k)`, вычисляющую\n",
    "\n",
    "$$\\sum_{i=1}^{\\min(k,n)}\\lambda_ia_ib_i^T$$"
   ]
  },
  {
   "cell_type": "code",
   "execution_count": 36,
   "metadata": {
    "id": "rXVb6AARr-Dq"
   },
   "outputs": [],
   "source": [
    "# Your code here\n",
    "def f(A, B, lmbd, k):\n",
    "  k = min(A.shape[1], k)\n",
    "  B = B.T\n",
    "  return sum(np.sum(A[:k] * B[:k], axis=1) * lmbd)\n"
   ]
  },
  {
   "cell_type": "markdown",
   "metadata": {
    "id": "RFlCOb_1r-Dq"
   },
   "source": [
    "**Задание 4.3 [0.75 балла]** Напишите функцию `get_diag(A,B)`, принимающую две квадратных матрицы матрицы `A` и `B` одного размера и возвращающую вектор диагональных элементов произведения `AB`, не вычисляя произведение целиком. "
   ]
  },
  {
   "cell_type": "code",
   "execution_count": 35,
   "metadata": {
    "id": "UafXckVtr-Dr"
   },
   "outputs": [],
   "source": [
    "# Your code here\n",
    "def get_diag(A, B):\n",
    "  x = A.diagonal()\n",
    "  y = B.diagonal()\n",
    "  return (x * y)\n",
    "\n",
    "def stupid_check(A, B):\n",
    "  C = A.dot(B)\n",
    "  return C.diagonal()\n",
    "for _ in range(10):\n",
    "    X = np.random.rand(8, 8)\n",
    "    Y = np.random.rand(8, 8)\n",
    "    if sum(np.abs(get_diag(X, Y)) - sum(stupid_check(X, Y)) > 1e-6):\n",
    "        print('FAILED')"
   ]
  },
  {
   "cell_type": "markdown",
   "metadata": {
    "id": "6IMMmVtpr-Dr"
   },
   "source": [
    "## Часть 5. Комплексные числа и геометрия"
   ]
  },
  {
   "cell_type": "markdown",
   "metadata": {
    "id": "M_R3OAUjr-Dr"
   },
   "source": [
    "У вас уже была возможность убедиться, что многие операции над комплексными числами имеют наглядную геометрическую интерпретацию. В этом задании вам будет предложено этим воспользоваться.\n",
    "\n",
    "В Python число $i$ (мнимая единица) обозначено через `1j`. Так, число $0,5 + 1,2i$ будет иметь вид `0.5 + 1.2 * 1j`.\n",
    "\n",
    "При выполнении задания вы должны работать с точками плоскости как с комплексными числами. Любые преобразования должны быть реализованы с помощью операций над комплексными числами: сложения, вычитания, умножения, деления, возведения в степень и комплексного сопряжения.\n",
    "\n",
    "**Задание 5.1 [0.75 баллов]** Напишите функцию `shrink_rotate`, которая принимает на вход:\n",
    "- заданную в виде комплексного числа точку $X$, которую мы подвергаем преобразованию,\n",
    "- заданную в виде комплексного числа точку $A$, \n",
    "- действительный коэффициент `coef`,\n",
    "- угол `alpha`, заданный в радианах\n",
    "\n",
    "и осуществляет следующее преобразование: мы берём вектор $AX$, умножаем его `coef`, поворачиваем вокруг точки $A$ на угол `alpha` против часовой стрелки, после чего возвращаем конец полученного вектора. Ниже (левая картинка) мы приводим иллюстрацию действия этого преобразования:\n",
    "\n",
    "<img src=\"ShrinkRotate.png\">\n",
    "\n",
    "**Задание 5.2 [0.75 баллов]** Напишите функцию `shrink_rotate_conj`, которая сначала делает то же самое, что и `shrink_rotate`, а после этого отражает вектор $AY$ относительно горизонтальной прямой, проходящей через точку $A$, и возвращает точку $Y'$ (см. правую часть рисунка).\n",
    "\n",
    "**Задание 5.3 [0.75 баллов]** Напишите функцию `geometric_inverse`, которая принимает на вход:\n",
    "- заданную в виде комплексного числа точку $X$, которую мы подвергаем преобразованию,\n",
    "- заданную в виде комплексного числа точку $A$, \n",
    "- положительное действительное число $r$\n",
    "\n",
    "и осуществляет инверсию точки $X$ относительно окружности с центром $A$ радиуса $r$. [Определение инверсии вы можете посмотреть здесь](https://ru.wikipedia.org/wiki/%D0%98%D0%BD%D0%B2%D0%B5%D1%80%D1%81%D0%B8%D1%8F_(%D0%B3%D0%B5%D0%BE%D0%BC%D0%B5%D1%82%D1%80%D0%B8%D1%8F))."
   ]
  },
  {
   "cell_type": "code",
   "execution_count": 102,
   "metadata": {
    "id": "3NdSgR5gr-Ds"
   },
   "outputs": [
    {
     "name": "stdout",
     "output_type": "stream",
     "text": [
      "[[ 15.16043831]\n",
      " [-11.32410442]]\n",
      "(30.41176470588235+19.647058823529413j)\n"
     ]
    },
    {
     "name": "stderr",
     "output_type": "stream",
     "text": [
      "<ipython-input-102-24bf3852ca59>:19: ComplexWarning: Casting complex values to real discards the imaginary part\n",
      "  v[0] = v[0] * np.cos(2 * alpha) - v[1] * np.sin(2 * alpha)\n",
      "<ipython-input-102-24bf3852ca59>:20: ComplexWarning: Casting complex values to real discards the imaginary part\n",
      "  v[1] = v[0] * np.sin(2 * alpha) + v[1] * np.cos(2 * alpha)\n"
     ]
    }
   ],
   "source": [
    "def shrink_rotate(x, a, coef=1., angle=0.):\n",
    "    v0 = (x.real - a.real) * coef\n",
    "    v1 = (x.imag - a.imag) * coef\n",
    "    v0 = v0 * np.cos(angle) - v1 * np.sin(angle)\n",
    "    v1 = v0 * np.sin(angle) + v1 * np.cos(angle)\n",
    "    return v0 + a.real + (v1 + a.imag) * 1j\n",
    "\n",
    "def shrink_rotate_conj(x, a, coef=1., angle=0.):\n",
    "    a, x = x, a\n",
    "    x2, y2 = x.real, x.imag\n",
    "    x1, y1 = a.real, a.imag\n",
    "    v = np.array([[(x2 - x1) * coef], [(y2 - y1) * coef]])\n",
    "    v[0] = v[0] * np.cos(angle) + v[1] * np.sin(angle)\n",
    "    v[1] = -v[0] * np.sin(angle) + v[1] * np.cos(angle)\n",
    "    A = (x2 * coef * np.cos(angle) + y2 * np.sin(angle), -x2 * coef * np.sin(angle) + y2 * np.cos(angle))\n",
    "    cs = 1j\n",
    "    сs = (A[0] * v[0] + A[1] * v[1]) / (((A[0] ** 2 + A[1] ** 2) ** .5) * ((v[0] ** 2 + v[1] ** 2) ** .5))\n",
    "    alpha = np.arccos(cs)\n",
    "    v[0] = v[0] * np.cos(2 * alpha) - v[1] * np.sin(2 * alpha)\n",
    "    v[1] = v[0] * np.sin(2 * alpha) + v[1] * np.cos(2 * alpha)\n",
    "    return v\n",
    "print(shrink_rotate_conj((10 + 5j), (2 + 4j), angle=45))\n",
    "def geometric_inverse(x, a, r):\n",
    "    z = x\n",
    "    z2 = r ** 2 * z / (abs(z) ** 2)\n",
    "    return a + z2\n",
    "    \n",
    "print(geometric_inverse((10 + 6j), (1 + 2j), 20))"
   ]
  },
  {
   "cell_type": "markdown",
   "metadata": {
    "id": "NeashSv6r-Ds"
   },
   "source": [
    "**Задание 5.4 [0.5 баллов]** Рассмотрим следующий процесс:\n",
    "\n",
    "```\n",
    "z = 0.5 + 0.*1j\n",
    "max_iter = 100000\n",
    "funcs = [\n",
    "    (lambda t: shrink_rotate(t, 0. + 1.*1j, coef=0.5, angle=0.)),\n",
    "    (lambda t: shrink_rotate(t, 1. + 0.*1j, coef=0.5, angle=0.)),\n",
    "    (lambda t: shrink_rotate(t, -1. + 0.*1j, coef=0.5, angle=0.))\n",
    "]\n",
    "\n",
    "for n_iter in range(max_iter):\n",
    "    n_func = np.random.choice(len(funcs))\n",
    "    z = funcs[n_func](z)\n",
    "```\n",
    "\n",
    "Запустите его и нарисуйте множество точек, получающихся на итерациях начиняя с десятой.\n",
    "\n",
    "*Указание*. Представьте квадрат $[-1,1]\\times[-1,1]$ матрицей пикселей 1000x1000. Сначала все элементы матрицы положим нулями, а на каждой итерации начиная с десятой будем присваивать единицу соответствующему пикселю этой матрицы. То, что получилось, можно нарисовать с помощью функции `plt.imshow(..., cmap='gray')`. Картинку лучше сделать побольше, предварив `imshow` вызовом `plt.figure(figsize=(20, 20))`."
   ]
  },
  {
   "cell_type": "code",
   "execution_count": 119,
   "metadata": {
    "id": "7Igcpac1r-Dt",
    "scrolled": true
   },
   "outputs": [
    {
     "data": {
      "text/plain": [
       "<matplotlib.image.AxesImage at 0x7f472c7e9d60>"
      ]
     },
     "execution_count": 119,
     "metadata": {},
     "output_type": "execute_result"
    },
    {
     "data": {
      "image/png": "[encoded data removed]",
      "text/plain": [
       "<Figure size 576x576 with 1 Axes>"
      ]
     },
     "metadata": {
      "needs_background": "light"
     },
     "output_type": "display_data"
    }
   ],
   "source": [
    "z = 0.5 + 0.*1j\n",
    "max_iter = 100000\n",
    "funcs = [\n",
    "    (lambda t: shrink_rotate(t, 0. + 1.*1j, coef=0.5, angle=0.)),\n",
    "    (lambda t: shrink_rotate(t, 1. + 0.*1j, coef=0.5, angle=0.)),\n",
    "    (lambda t: shrink_rotate(t, -1. + 0.*1j, coef=0.5, angle=0.))\n",
    "]\n",
    "arr = [[0] * 1000 for i in range(1000)]\n",
    "for n_iter in range(max_iter):\n",
    "    n_func = np.random.choice(len(funcs))\n",
    "    z = funcs[n_func](z)\n",
    "    if n_iter >= 10:\n",
    "        arr[int(-500*z.imag - 500)][int(500*z.real + 500)] = 1\n",
    "\n",
    "\n",
    "plt.figure(figsize=(8, 8))\n",
    "plt.imshow(arr, cmap='gray')\n",
    "    "
   ]
  },
  {
   "cell_type": "markdown",
   "metadata": {
    "id": "kB4gYvBlr-Dt"
   },
   "source": [
    "**Задание 5.5 [0.75 баллов]** Попробуйте объяснить, почему получается именно эта фигура.\n",
    "\n"
   ]
  },
  {
   "cell_type": "markdown",
   "metadata": {
    "id": "LQ5SZbJxr-Dt"
   },
   "source": [
    "---\n",
    "на каждом шагу мы применяем трижды функцию, которая коструирует равносторонний треугольник, за счет коэффициентов и итератора меняется размер треугольников и получается треугольник Серпинского "
   ]
  },
  {
   "cell_type": "markdown",
   "metadata": {
    "id": "f1aCcERQr-Du"
   },
   "source": [
    "**Задание 5.6 [0.5 баллов]** Поэкспериментируйте с другими преобразованиями. Попробуйте найти какой-нибудь другой красиво выглядящий фрактал."
   ]
  },
  {
   "cell_type": "code",
   "execution_count": null,
   "metadata": {
    "collapsed": true,
    "id": "mVvGUziLr-Dv"
   },
   "outputs": [],
   "source": [
    "# Your code here"
   ]
  },
  {
   "cell_type": "markdown",
   "metadata": {
    "id": "jjJJYMLcr-Dv"
   },
   "source": [
    "## Часть 6 (бонус). Метод Гаусса или обратные матрицы?"
   ]
  },
  {
   "cell_type": "markdown",
   "metadata": {
    "id": "Pu8CLGhmr-Dw"
   },
   "source": [
    "**Задание 6.1 [1.5 балла]** Пусть нам дано матричное уравнение $Ax = B$, где $A$ --- матрица размера $n\\times n$, а $B$ --- матрица размера $n\\times m$ (отметим, что это уравнение можно интерпретировать как $m$ систем с векторными правыми частями и однаковыми левыми). Вообще говоря, методов решения таких уравнений очень много, но мы пока рассмотрим два из них, с которыми вы уже хорошо знакомы.\n",
    "1. Метод Гаусса;\n",
    "2. Умножение на обратную матрицу: $x = A^{-1}B$.\n",
    "\n",
    "В этом задании вы попробуете ответить на вопрос о том, какой из этих методов эффективнее. Проведите два эксперимента:\n",
    "- сравните скорости решения системы при фиксированном `m = 10` и `n`, изменяющемся в пределах от 10 до 1000, например, для `n=10, 50, 100, 200, 500, 1000` (рост числа неизвестных при фиксированном количестве правых частей);\n",
    "- сравните скорости решения системы при фиксированном `n = 100` и `m`, меняющемся от 10 до 10000, например, для `m = 10, 100, 500, 1000, 2000, 5000, 10000` (рост числа правых частей при фиксированном числе неизвестных).\n",
    "\n",
    "При проведении экспериментов не возбраняется использовать циклы `for`.\n",
    "\n",
    "Эксперименты проведите на случайных матрицах, созданных с помощью функции `numpy.random.rand`. Постройте графики времени выполнения функции от размерности (лучше в логарифмическом масштабе). Сделайте выводы (в письменном виде!) о том, какой их методов оказывается лучше в каких обстоятельствах.\n",
    "\n",
    "Чтобы всё это не казалось вам чёрной магией, найдите число операций (суммарно сложения, умножения и деления), необходимых для решения системы каждым из методов. Обратите внимания на члены суммарной степени 3 (суммарной по $m$ и $n$; члены меньшего порядка можете даже не считать). Постарайтесь объяснить полученные ранее результаты."
   ]
  },
  {
   "cell_type": "code",
   "execution_count": 125,
   "metadata": {
    "id": "MxNqxkTbr-Dw"
   },
   "outputs": [
    {
     "name": "stdout",
     "output_type": "stream",
     "text": [
      "45.4 µs ± 11.7 µs per loop (mean ± std. dev. of 7 runs, 10000 loops each)\n",
      "12 µs ± 260 ns per loop (mean ± std. dev. of 7 runs, 100000 loops each)\n",
      "80.4 µs ± 9.14 µs per loop (mean ± std. dev. of 7 runs, 10000 loops each)\n",
      "46.2 µs ± 371 ns per loop (mean ± std. dev. of 7 runs, 10000 loops each)\n",
      "235 µs ± 16.5 µs per loop (mean ± std. dev. of 7 runs, 1000 loops each)\n",
      "384 µs ± 52.3 µs per loop (mean ± std. dev. of 7 runs, 1000 loops each)\n",
      "686 µs ± 63.7 µs per loop (mean ± std. dev. of 7 runs, 1000 loops each)\n",
      "27.5 ms ± 9.56 ms per loop (mean ± std. dev. of 7 runs, 100 loops each)\n",
      "5.01 ms ± 506 µs per loop (mean ± std. dev. of 7 runs, 100 loops each)\n",
      "The slowest run took 5.71 times longer than the fastest. This could mean that an intermediate result is being cached.\n",
      "66.7 ms ± 35.2 ms per loop (mean ± std. dev. of 7 runs, 10 loops each)\n",
      "32.8 ms ± 11.8 ms per loop (mean ± std. dev. of 7 runs, 10 loops each)\n",
      "130 ms ± 9.42 ms per loop (mean ± std. dev. of 7 runs, 10 loops each)\n"
     ]
    },
    {
     "data": {
      "text/plain": [
       "<matplotlib.legend.Legend at 0x7f472c4019d0>"
      ]
     },
     "execution_count": 125,
     "metadata": {},
     "output_type": "execute_result"
    },
    {
     "data": {
      "image/png": "[encoded data removed]",
      "text/plain": [
       "<Figure size 432x288 with 1 Axes>"
      ]
     },
     "metadata": {
      "needs_background": "light"
     },
     "output_type": "display_data"
    }
   ],
   "source": [
    "# Your code here\n",
    "m = 10\n",
    "gauss_times = []\n",
    "dot_times = []\n",
    "dimensions = [10, 50, 100, 200, 500, 1000]\n",
    "for dim in dimensions:\n",
    "    A = np.random.rand(dim, dim)\n",
    "    B = np.random.rand(dim, m)\n",
    "    res_lib = %timeit -o sla.solve(A, B)\n",
    "    gauss_times.append(res_lib.best)\n",
    "    res_my = %timeit -o sla.inv(A).dot(B)\n",
    "    dot_times.append(res_my.best)    \n",
    "\n",
    "plt.plot(dimensions, gauss_times, color='blue', label='Гаусс')\n",
    "plt.plot(dimensions, dot_times, color='red', label='Умножение на обратную')\n",
    "plt.title('Меняем размер матрицы неизвестных')\n",
    "plt.ylabel('Время')\n",
    "plt.xlabel('Порядок матрицы')\n",
    "plt.legend()"
   ]
  },
  {
   "cell_type": "code",
   "execution_count": 126,
   "metadata": {},
   "outputs": [
    {
     "data": {
      "text/plain": [
       "<matplotlib.legend.Legend at 0x7f471be14a60>"
      ]
     },
     "execution_count": 126,
     "metadata": {},
     "output_type": "execute_result"
    },
    {
     "data": {
      "image/png": "[encoded data removed]",
      "text/plain": [
       "<Figure size 432x288 with 1 Axes>"
      ]
     },
     "metadata": {
      "needs_background": "light"
     },
     "output_type": "display_data"
    }
   ],
   "source": [
    "plt.semilogy(dimensions, gauss_times, color='blue', label='Гаусс')\n",
    "plt.semilogy(dimensions, dot_times, color='red', label='Умножение на обратную')\n",
    "plt.title('Меняем размер матрицы неизвестных')\n",
    "plt.ylabel('Время')\n",
    "plt.xlabel('Порядок матрицы')\n",
    "plt.legend()"
   ]
  },
  {
   "cell_type": "code",
   "execution_count": 135,
   "metadata": {
    "scrolled": true
   },
   "outputs": [
    {
     "name": "stdout",
     "output_type": "stream",
     "text": [
      "246 µs ± 63.9 µs per loop (mean ± std. dev. of 7 runs, 1000 loops each)\n",
      "415 µs ± 103 µs per loop (mean ± std. dev. of 7 runs, 1000 loops each)\n",
      "240 µs ± 3.21 µs per loop (mean ± std. dev. of 7 runs, 1000 loops each)\n",
      "The slowest run took 51.18 times longer than the fastest. This could mean that an intermediate result is being cached.\n",
      "12.2 ms ± 17.3 ms per loop (mean ± std. dev. of 7 runs, 10 loops each)\n",
      "388 µs ± 48.4 µs per loop (mean ± std. dev. of 7 runs, 1000 loops each)\n",
      "1.91 ms ± 1.06 ms per loop (mean ± std. dev. of 7 runs, 10 loops each)\n",
      "603 µs ± 55.4 µs per loop (mean ± std. dev. of 7 runs, 1000 loops each)\n",
      "The slowest run took 13.86 times longer than the fastest. This could mean that an intermediate result is being cached.\n",
      "6.39 ms ± 3.92 ms per loop (mean ± std. dev. of 7 runs, 100 loops each)\n",
      "885 µs ± 38.7 µs per loop (mean ± std. dev. of 7 runs, 1000 loops each)\n",
      "10.5 ms ± 3.54 ms per loop (mean ± std. dev. of 7 runs, 1000 loops each)\n",
      "2.58 ms ± 251 µs per loop (mean ± std. dev. of 7 runs, 100 loops each)\n",
      "The slowest run took 13.68 times longer than the fastest. This could mean that an intermediate result is being cached.\n",
      "20.6 ms ± 19 ms per loop (mean ± std. dev. of 7 runs, 10 loops each)\n",
      "4.85 ms ± 104 µs per loop (mean ± std. dev. of 7 runs, 100 loops each)\n",
      "The slowest run took 4.19 times longer than the fastest. This could mean that an intermediate result is being cached.\n",
      "8.46 ms ± 4.87 ms per loop (mean ± std. dev. of 7 runs, 100 loops each)\n",
      "17 ms ± 3.42 ms per loop (mean ± std. dev. of 7 runs, 100 loops each)\n",
      "44.3 ms ± 7.4 ms per loop (mean ± std. dev. of 7 runs, 100 loops each)\n"
     ]
    },
    {
     "data": {
      "text/plain": [
       "<matplotlib.legend.Legend at 0x7f471a816df0>"
      ]
     },
     "execution_count": 135,
     "metadata": {},
     "output_type": "execute_result"
    },
    {
     "data": {
      "image/png": "[encoded data removed]",
      "text/plain": [
       "<Figure size 432x288 with 1 Axes>"
      ]
     },
     "metadata": {
      "needs_background": "light"
     },
     "output_type": "display_data"
    }
   ],
   "source": [
    "# Your code here\n",
    "n = 100\n",
    "gauss_times = []\n",
    "dot_times = []\n",
    "dimensions = [10, 100, 500, 1000, 2000, 5000, 10000, 30000]\n",
    "for dim in dimensions:\n",
    "    A = np.random.rand(n, n)\n",
    "    B = np.random.rand(n, dim)\n",
    "    res_lib = %timeit -o sla.solve(A, B)\n",
    "    gauss_times.append(res_lib.best)\n",
    "    res_my = %timeit -o sla.inv(A).dot(B)\n",
    "    dot_times.append(res_my.best)    \n",
    "\n",
    "plt.plot(dimensions, gauss_times, color='blue', label='Гаусс')\n",
    "plt.plot(dimensions, dot_times, color='red', label='Обратная')\n",
    "plt.title('Фиксируем неизвестные, меняем правую матрицу')\n",
    "plt.ylabel('Время')\n",
    "plt.xlabel('Порядок матрицы')\n",
    "plt.legend()"
   ]
  },
  {
   "cell_type": "code",
   "execution_count": 136,
   "metadata": {
    "scrolled": true
   },
   "outputs": [
    {
     "data": {
      "text/plain": [
       "<matplotlib.legend.Legend at 0x7f471a5e2910>"
      ]
     },
     "execution_count": 136,
     "metadata": {},
     "output_type": "execute_result"
    },
    {
     "data": {
      "image/png": "[encoded data removed]",
      "text/plain": [
       "<Figure size 432x288 with 1 Axes>"
      ]
     },
     "metadata": {
      "needs_background": "light"
     },
     "output_type": "display_data"
    }
   ],
   "source": [
    "plt.semilogy(dimensions, gauss_times, color='blue', label='Гаусс')\n",
    "plt.semilogy(dimensions, dot_times, color='red', label='Обратная')\n",
    "plt.title('Фиксируем неизвестные, меняем правую матрицу')\n",
    "plt.ylabel('Время')\n",
    "plt.xlabel('Порядок матрицы')\n",
    "plt.legend()"
   ]
  },
  {
   "cell_type": "markdown",
   "metadata": {},
   "source": [
    "Судя по графикам, которые мы получили, при небольших размерах правых матриц и росте размера матрицы коэффициентов, лучше применять умножение на обратную матрицу. \n",
    "\n",
    "Однако, если размер матрицы коэффициентов не велик, а размер правой матрицы растет, метод Гаусса уступит умножению на обратную на больших размерах матриц, но все же уступит.\n",
    "\n",
    "Если я правильно понимаю, это связано с тем, что перемножение матриц происходит быстрее, чем метод Гаусса(O(n^2.5) vs O(n^3)), исходя из чего решение уравнений через обратную матрицу ассимптотически эффективнее, тк поиск обратной имеет сложность между O(n^2) и O(n^3).\n",
    "\n",
    "Однако же, для небольших n метод Гаусса будет выигрывать судя по всему благодаря своей константе, а вот какие n называть малыми зависит уже от того, что мы меняем: матрицу коэффициентов или правую. "
   ]
  },
  {
   "cell_type": "code",
   "execution_count": null,
   "metadata": {},
   "outputs": [],
   "source": []
  }
 ],
 "metadata": {
  "colab": {
   "collapsed_sections": [
    "YaJV1GVyr-DE",
    "Dq9CP3Tvr-Dc",
    "jjJJYMLcr-Dv"
   ],
   "name": "Copy of HSE Linalg Lab Fall 2021.ipynb",
   "provenance": [
    {
     "file_id": "1mpcL5Ck7iIUvHKqfHp1rRZZ3xmF-VTVF",
     "timestamp": 1637442211408
    }
   ]
  },
  "kernelspec": {
   "display_name": "Python 3",
   "language": "python",
   "name": "python3"
  },
  "language_info": {
   "codemirror_mode": {
    "name": "ipython",
    "version": 3
   },
   "file_extension": ".py",
   "mimetype": "text/x-python",
   "name": "python",
   "nbconvert_exporter": "python",
   "pygments_lexer": "ipython3",
   "version": "3.9.7"
  }
 },
 "nbformat": 4,
 "nbformat_minor": 1
}
